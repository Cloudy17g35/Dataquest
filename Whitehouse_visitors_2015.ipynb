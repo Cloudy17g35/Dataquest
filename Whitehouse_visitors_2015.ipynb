{
 "cells": [
  {
   "cell_type": "markdown",
   "metadata": {},
   "source": [
    "# Whitehouse visitors"
   ]
  },
  {
   "cell_type": "markdown",
   "metadata": {},
   "source": [
    "This project is about white house visitors. How many visitors was in the white house in 2015\n",
    "This project allow to:\n",
    "* Calculate the month with the most visitors.\n",
    "* Calculate the most common time that visits occurred.\n",
    "* Calculate summary statistics on visit length and how far ahead visits are booked.\n",
    "* Produce neatly formatted summaries of daily visits."
   ]
  },
  {
   "cell_type": "markdown",
   "metadata": {},
   "source": [
    "importing reader function from csv module"
   ]
  },
  {
   "cell_type": "code",
   "execution_count": 1,
   "metadata": {},
   "outputs": [],
   "source": [
    "from csv import reader"
   ]
  },
  {
   "cell_type": "markdown",
   "metadata": {},
   "source": [
    "Opening the file with python built-in function open"
   ]
  },
  {
   "cell_type": "code",
   "execution_count": 2,
   "metadata": {},
   "outputs": [],
   "source": [
    "file = open(\"potus_visitors_2015.csv\")"
   ]
  },
  {
   "cell_type": "markdown",
   "metadata": {},
   "source": [
    "Reading the file with the reader module"
   ]
  },
  {
   "cell_type": "code",
   "execution_count": 3,
   "metadata": {},
   "outputs": [],
   "source": [
    "read_file = reader(file)"
   ]
  },
  {
   "cell_type": "markdown",
   "metadata": {},
   "source": [
    "assign the read file to the variable data and make a list, isolate the data from the header"
   ]
  },
  {
   "cell_type": "code",
   "execution_count": 4,
   "metadata": {},
   "outputs": [],
   "source": [
    "data = list(read_file)\n",
    "data_header = data[0]\n",
    "data = data[1:]"
   ]
  },
  {
   "cell_type": "markdown",
   "metadata": {},
   "source": [
    "Quick glance if wverything works fine"
   ]
  },
  {
   "cell_type": "code",
   "execution_count": 5,
   "metadata": {},
   "outputs": [
    {
     "data": {
      "text/plain": [
       "['name',\n",
       " 'appt_made_date',\n",
       " 'appt_start_date',\n",
       " 'appt_end_date',\n",
       " 'visitee_namelast',\n",
       " 'visitee_namefirst',\n",
       " 'meeting_room',\n",
       " 'description']"
      ]
     },
     "execution_count": 5,
     "metadata": {},
     "output_type": "execute_result"
    }
   ],
   "source": [
    "data_header"
   ]
  },
  {
   "cell_type": "markdown",
   "metadata": {},
   "source": [
    "## describing columns from data"
   ]
  },
  {
   "cell_type": "markdown",
   "metadata": {},
   "source": [
    "|Syntax|Description|\n",
    "|:------:|:---:|\n",
    "|name |The name of the visitor.|\n",
    "|appt_made_date| The date and time that the appointment was created.|\n",
    "|appt_start_date| The date and time that the appointment was scheduled to start.|\n",
    "|appt_end_date| The date and time that the appointment was scheduled to end.|\n",
    "|visitee_namelast| The last name of the visitee (the person the visitor was meeting with).|\n",
    "|visitee_namefirst| The first name of the visitee.|\n",
    "|meeting_room| The room in which the appointment was scheduled.|\n",
    "|description| Optional comments added by the WAVES operator.|"
   ]
  },
  {
   "cell_type": "markdown",
   "metadata": {},
   "source": [
    "Solecting some differnt data"
   ]
  },
  {
   "cell_type": "code",
   "execution_count": 6,
   "metadata": {},
   "outputs": [
    {
     "name": "stdout",
     "output_type": "stream",
     "text": [
      "[['Joshua T. Blanton', '2014-12-18T00:00:00', '1/6/15 9:30', '1/6/15 23:59', '', 'potus', 'west wing', 'JointService Military Honor Guard'], ['Jack T. Gutting', '2014-12-18T00:00:00', '1/6/15 9:30', '1/6/15 23:59', '', 'potus', 'west wing', 'JointService Military Honor Guard'], ['Bradley T. Guiles', '2014-12-18T00:00:00', '1/6/15 9:30', '1/6/15 23:59', '', 'potus', 'west wing', 'JointService Military Honor Guard'], ['Loryn F. Grieb', '2014-12-18T00:00:00', '1/6/15 9:30', '1/6/15 23:59', '', 'potus', 'west wing', 'JointService Military Honor Guard'], ['Travis D. Gordon', '2014-12-18T00:00:00', '1/6/15 9:30', '1/6/15 23:59', '', 'potus', 'west wing', 'JointService Military Honor Guard'], ['Taylor D. Gibbs', '2014-12-18T00:00:00', '1/6/15 9:30', '1/6/15 23:59', '', 'potus', 'west wing', 'JointService Military Honor Guard'], ['Dameriah A. Smith', '2014-12-18T00:00:00', '1/6/15 9:30', '1/6/15 23:59', '', 'potus', 'west wing', 'JointService Military Honor Guard']]\n"
     ]
    }
   ],
   "source": [
    "print(data[:7])"
   ]
  },
  {
   "cell_type": "markdown",
   "metadata": {},
   "source": [
    "## time module explanation"
   ]
  },
  {
   "cell_type": "markdown",
   "metadata": {},
   "source": [
    "The datetime.datetime class is the most commonly-used class from the datetime module, and has attributes and methods designed to work with data containing both the date and time. The signature of the class is below (with some lesser used parameters omitted):\n",
    "\n",
    "                    datetime.datetime(year, month, day, hour=0, minute=0, second=0)"
   ]
  },
  {
   "cell_type": "markdown",
   "metadata": {},
   "source": [
    "The signature indicates that the year, month, and day arguments are required, and the time arguments are optional and set to the equivalent of midnight if omitted. The hour parameter is expressed in 24 hour time, so 11 is 11 a.m., 12 is 12 p.m., 13 is 1 p.m., etc."
   ]
  },
  {
   "cell_type": "markdown",
   "metadata": {},
   "source": [
    "Importing datetime:"
   ]
  },
  {
   "cell_type": "code",
   "execution_count": 7,
   "metadata": {},
   "outputs": [],
   "source": [
    "import datetime as dt #  it' s not common to import is as dt but we''ll use it a lot in this notebook"
   ]
  },
  {
   "cell_type": "code",
   "execution_count": 8,
   "metadata": {},
   "outputs": [
    {
     "name": "stdout",
     "output_type": "stream",
     "text": [
      "1999-01-09 00:00:00\n"
     ]
    }
   ],
   "source": [
    "my_birthday = dt.datetime(1999,1,9)\n",
    "print(my_birthday)"
   ]
  },
  {
   "cell_type": "markdown",
   "metadata": {},
   "source": [
    "Because there's no value assigned to the minute and second parameter, it's by default at midnight nineth of January 1999"
   ]
  },
  {
   "cell_type": "code",
   "execution_count": 9,
   "metadata": {},
   "outputs": [
    {
     "name": "stdout",
     "output_type": "stream",
     "text": [
      "1999-01-09 09:30:00\n"
     ]
    }
   ],
   "source": [
    "my_birthday_with_time = dt.datetime(1999,1,9,9,30)\n",
    "print(my_birthday_with_time)"
   ]
  },
  {
   "cell_type": "markdown",
   "metadata": {},
   "source": [
    "Now let's look at data from the data"
   ]
  },
  {
   "cell_type": "code",
   "execution_count": 10,
   "metadata": {},
   "outputs": [
    {
     "name": "stdout",
     "output_type": "stream",
     "text": [
      "12/18/15 16:30\n"
     ]
    }
   ],
   "source": [
    "start = data[-1][2]\n",
    "print(start) #  it's the data when appointment was scheduled to start"
   ]
  },
  {
   "cell_type": "markdown",
   "metadata": {},
   "source": [
    "We can split the the date into two variables, our aim is to format date from data set to values which was in datetime object"
   ]
  },
  {
   "cell_type": "code",
   "execution_count": 11,
   "metadata": {},
   "outputs": [
    {
     "name": "stdout",
     "output_type": "stream",
     "text": [
      "12/18/15\n",
      "16:30\n"
     ]
    }
   ],
   "source": [
    "date, time = start.split() \n",
    "print(date)\n",
    "print(time)"
   ]
  },
  {
   "cell_type": "code",
   "execution_count": 12,
   "metadata": {},
   "outputs": [],
   "source": [
    "month,day,year = date.split(\"/\")\n",
    "hour,minute = time.split(\":\")"
   ]
  },
  {
   "cell_type": "markdown",
   "metadata": {},
   "source": [
    "but anyway the type is string so if we wanna have a datetime object we need to make type to integer "
   ]
  },
  {
   "cell_type": "code",
   "execution_count": 13,
   "metadata": {},
   "outputs": [
    {
     "name": "stdout",
     "output_type": "stream",
     "text": [
      "<class 'str'>\n",
      "<class 'str'>\n"
     ]
    }
   ],
   "source": [
    "print(type(month))\n",
    "print(type(hour))"
   ]
  },
  {
   "cell_type": "code",
   "execution_count": 14,
   "metadata": {},
   "outputs": [],
   "source": [
    "month = int(month)\n",
    "day = int(day)\n",
    "year = int(year)\n",
    "hour = int(hour)\n",
    "minute = int(minute)"
   ]
  },
  {
   "cell_type": "markdown",
   "metadata": {},
   "source": [
    "and now we can use this values as parameters in datetime method"
   ]
  },
  {
   "cell_type": "code",
   "execution_count": 15,
   "metadata": {},
   "outputs": [
    {
     "name": "stdout",
     "output_type": "stream",
     "text": [
      "0015-12-18 16:30:00\n"
     ]
    }
   ],
   "source": [
    "appointment_start = dt.datetime(year, month , day, hour, minute)\n",
    "print(appointment_start)"
   ]
  },
  {
   "cell_type": "markdown",
   "metadata": {},
   "source": [
    "But as we can see it doesnt work as we expected, and its a lot of work to do that that way, there's easier way to do that.\n",
    "\n",
    "The datetime.strptime() constructor returns a datetime object defined using a special syntax system to describe date and time formats called strftime."
   ]
  },
  {
   "cell_type": "markdown",
   "metadata": {},
   "source": [
    "The strftime syntax uses a series of format codes consisting of a % character followed by a single character which specifies a date or time part in a particular format. Lets consider this:"
   ]
  },
  {
   "cell_type": "code",
   "execution_count": 16,
   "metadata": {},
   "outputs": [
    {
     "name": "stdout",
     "output_type": "stream",
     "text": [
      "<class 'datetime.datetime'>\n",
      "2015-12-24 00:00:00\n"
     ]
    }
   ],
   "source": [
    "string = \"24/12/2015\"\n",
    "date = dt.datetime.strptime(string, '%d/%m/%Y') #  we using datetime method strptime on string\n",
    "print(type(date))\n",
    "print(date)"
   ]
  },
  {
   "cell_type": "markdown",
   "metadata": {},
   "source": [
    "Another example"
   ]
  },
  {
   "cell_type": "code",
   "execution_count": 17,
   "metadata": {},
   "outputs": [
    {
     "name": "stdout",
     "output_type": "stream",
     "text": [
      "2015-12-24 00:00:00\n"
     ]
    }
   ],
   "source": [
    "string = '24-12-2015'\n",
    "date = dt.datetime.strptime(string, '%d-%m-%Y')\n",
    "print(date)"
   ]
  },
  {
   "cell_type": "markdown",
   "metadata": {},
   "source": [
    "The datetime class has a number of attributes which make it easy to retrieve the various parts that make up the date stored within the object:\n",
    "\n",
    "* datetime.day: The day of the month.\n",
    "\n",
    "* datetime.month: The month of the year.\n",
    "\n",
    "* datetime.year: The year.\n",
    "\n",
    "* datetime.hour: The hour of the day.\n",
    "\n",
    "* datetime.minute: The minute of the hour.\n",
    "\n",
    "If we wanted to create string representation of a datetime object representing the date like December 24th, 1984 in the form day/month/year, we could use those attributes to extract the values, and then insert them into a string:\n"
   ]
  },
  {
   "cell_type": "code",
   "execution_count": 18,
   "metadata": {},
   "outputs": [
    {
     "name": "stdout",
     "output_type": "stream",
     "text": [
      "9/1/1999\n"
     ]
    }
   ],
   "source": [
    "dt_object = dt.datetime(1999,1,9)\n",
    "day = dt_object.day\n",
    "month = dt_object.month\n",
    "year  = dt_object.year\n",
    "dt_string = f\"{day}/{month}/{year}\"\n",
    "print(dt_string)"
   ]
  },
  {
   "cell_type": "markdown",
   "metadata": {},
   "source": [
    "It's again a lot of work as you can see, but lucilly it's datetime.strftime() method which return string representation of date. How to know which is which?\n",
    "\n",
    "* strptime string parse time\n",
    "\n",
    "* strftime string format time"
   ]
  },
  {
   "cell_type": "markdown",
   "metadata": {},
   "source": [
    "with string format method we can display the data in this way"
   ]
  },
  {
   "cell_type": "code",
   "execution_count": 19,
   "metadata": {},
   "outputs": [
    {
     "name": "stdout",
     "output_type": "stream",
     "text": [
      "24/12/1984\n"
     ]
    }
   ],
   "source": [
    "dt_object = dt.datetime(1984, 12, 24)\n",
    "dt_string = dt_object.strftime(\"%d/%m/%Y\")\n",
    "print(dt_string)"
   ]
  },
  {
   "cell_type": "markdown",
   "metadata": {},
   "source": [
    "But we can also use %B to represent month as word"
   ]
  },
  {
   "cell_type": "code",
   "execution_count": 20,
   "metadata": {},
   "outputs": [
    {
     "name": "stdout",
     "output_type": "stream",
     "text": [
      "December 24, 1984\n"
     ]
    }
   ],
   "source": [
    "dt_string = dt_object.strftime(\"%B %d, %Y\")\n",
    "print(dt_string)"
   ]
  },
  {
   "cell_type": "markdown",
   "metadata": {},
   "source": [
    "And we can use  **%A, %I, %M, and %p** to represent the day of the week, the hour of the day, the minute of the hour, and a.m./p.m.:"
   ]
  },
  {
   "cell_type": "code",
   "execution_count": 21,
   "metadata": {},
   "outputs": [
    {
     "name": "stdout",
     "output_type": "stream",
     "text": [
      "Monday December 24 at 12:00 AM\n"
     ]
    }
   ],
   "source": [
    "dt_string = dt_object.strftime(\"%A %B %d at %I:%M %p\")\n",
    "print(dt_string)"
   ]
  },
  {
   "cell_type": "markdown",
   "metadata": {},
   "source": [
    "Iterate over tha data and change it to the datetime object"
   ]
  },
  {
   "cell_type": "code",
   "execution_count": 22,
   "metadata": {},
   "outputs": [],
   "source": [
    "for row in data:\n",
    "    date = row[2]\n",
    "    date = dt.datetime.strptime(date, '%m/%d/%y %H:%M')\n",
    "    row[2] = date\n",
    "    \n"
   ]
  },
  {
   "cell_type": "markdown",
   "metadata": {},
   "source": [
    "Creating a frequency table for the data in format \"name of the month\", \"a four digits year\":"
   ]
  },
  {
   "cell_type": "code",
   "execution_count": 23,
   "metadata": {},
   "outputs": [],
   "source": [
    "\n",
    "visitors_per_month = {}\n",
    "\n",
    "for row in data:\n",
    "    date = row[2]\n",
    "    date = dt.datetime.strftime(date, \"%B, %Y\")\n",
    "    \n",
    "    if date not in visitors_per_month:\n",
    "        visitors_per_month[date] = 1\n",
    "    else:\n",
    "        visitors_per_month[date] += 1"
   ]
  },
  {
   "cell_type": "code",
   "execution_count": 24,
   "metadata": {},
   "outputs": [
    {
     "name": "stdout",
     "output_type": "stream",
     "text": [
      "<class 'datetime.datetime'>\n"
     ]
    }
   ],
   "source": [
    "print(type(data[11][2]))"
   ]
  },
  {
   "cell_type": "markdown",
   "metadata": {},
   "source": [
    "And finally:"
   ]
  },
  {
   "cell_type": "code",
   "execution_count": 25,
   "metadata": {},
   "outputs": [
    {
     "name": "stdout",
     "output_type": "stream",
     "text": [
      "{'January, 2015': 1248, 'February, 2015': 2165, 'March, 2015': 2262, 'April, 2015': 4996, 'May, 2015': 3013, 'June, 2015': 7743, 'July, 2015': 2930, 'August, 2015': 1350, 'September, 2015': 4416, 'October, 2015': 3669, 'November, 2015': 1133, 'December, 2015': 13029}\n"
     ]
    }
   ],
   "source": [
    "print(visitors_per_month)"
   ]
  },
  {
   "cell_type": "markdown",
   "metadata": {},
   "source": [
    "Next step is to analyze presidential appointment times, to achive this we need to use the datetime.time class, the syntax is like this:\n",
    "\n",
    "                    datetime.time(hour=0, minute=0, second=0, microsecond=0)"
   ]
  },
  {
   "cell_type": "markdown",
   "metadata": {},
   "source": [
    "So when we specify the time object:"
   ]
  },
  {
   "cell_type": "code",
   "execution_count": 26,
   "metadata": {},
   "outputs": [
    {
     "name": "stdout",
     "output_type": "stream",
     "text": [
      "14:30:00\n"
     ]
    }
   ],
   "source": [
    "two_thirty = dt.time(14,30)\n",
    "print(two_thirty) #  Notice that the 24-hour time is provided"
   ]
  },
  {
   "cell_type": "markdown",
   "metadata": {},
   "source": [
    "For 8:05 a.m it's gonna be like this"
   ]
  },
  {
   "cell_type": "code",
   "execution_count": 27,
   "metadata": {},
   "outputs": [
    {
     "name": "stdout",
     "output_type": "stream",
     "text": [
      "08:05:00\n"
     ]
    }
   ],
   "source": [
    "fifth_after_eight_am = dt.time(8,5)\n",
    "print(fifth_after_eight_am)"
   ]
  },
  {
   "cell_type": "markdown",
   "metadata": {},
   "source": [
    "We can also create a time object from a datetime object, using the **datetime.datetime.time()** method. This method returns a time object representing the time data from the datetime object."
   ]
  },
  {
   "cell_type": "code",
   "execution_count": 28,
   "metadata": {},
   "outputs": [
    {
     "name": "stdout",
     "output_type": "stream",
     "text": [
      "12:30:00\n"
     ]
    }
   ],
   "source": [
    "jfk_shot_dt = dt.datetime(1963, 11, 22, 12, 30)\n",
    "print(jfk_shot_dt.time())"
   ]
  },
  {
   "cell_type": "markdown",
   "metadata": {},
   "source": [
    "The time class doesn't have a **strptime()** constructor, but if we need to parse times in string form, we can use datetime.strptime() and then convert directly to a time object:"
   ]
  },
  {
   "cell_type": "code",
   "execution_count": 29,
   "metadata": {},
   "outputs": [
    {
     "name": "stdout",
     "output_type": "stream",
     "text": [
      "1900-01-01 09:15:00\n"
     ]
    }
   ],
   "source": [
    "time_str = \"9:15\"\n",
    "time_dt = dt.datetime.strptime(time_str,\"%H:%M\")\n",
    "print(time_dt)"
   ]
  },
  {
   "cell_type": "markdown",
   "metadata": {},
   "source": [
    "Apart from having no strptime constructor, time objects behave similarly to datetime objects:\n",
    "\n",
    "They have attributes like **time.hour and time.second** that you can use to access individual time components.\n",
    "They have a **time.strftime()** method, which you can use to create a formatted string representation of the object."
   ]
  },
  {
   "cell_type": "markdown",
   "metadata": {},
   "source": [
    "A useful feature of time objects is that they support comparisons. We can test if one time is greater — or later — than another:"
   ]
  },
  {
   "cell_type": "code",
   "execution_count": 30,
   "metadata": {},
   "outputs": [],
   "source": [
    "t_1 = dt.time(17,45)\n",
    "t_2 = dt.time(1,13)"
   ]
  },
  {
   "cell_type": "code",
   "execution_count": 31,
   "metadata": {},
   "outputs": [
    {
     "name": "stdout",
     "output_type": "stream",
     "text": [
      "True\n"
     ]
    }
   ],
   "source": [
    "print(t_1 > t_2)"
   ]
  },
  {
   "cell_type": "markdown",
   "metadata": {},
   "source": [
    "Because these comparison operations are supported, Python built-in functions like **min()** and **max()** can also be used:"
   ]
  },
  {
   "cell_type": "code",
   "execution_count": 32,
   "metadata": {},
   "outputs": [
    {
     "name": "stdout",
     "output_type": "stream",
     "text": [
      "08:14:00\n",
      "\n",
      "20:45:00\n"
     ]
    }
   ],
   "source": [
    "times = [\n",
    "    dt.time(17,45),\n",
    "    dt.time(8,14),\n",
    "    dt.time(20,45)\n",
    "]\n",
    "\n",
    "print(min(times))\n",
    "print()\n",
    "print(max(times))"
   ]
  },
  {
   "cell_type": "markdown",
   "metadata": {},
   "source": [
    "Now we re gonna make a list of appointment times"
   ]
  },
  {
   "cell_type": "code",
   "execution_count": 33,
   "metadata": {},
   "outputs": [],
   "source": [
    "appointment_times = []\n",
    "\n",
    "for row in data:\n",
    "    date = row[2]\n",
    "    time = date.time()\n",
    "    appointment_times.append(time)"
   ]
  },
  {
   "cell_type": "markdown",
   "metadata": {},
   "source": [
    "And see when it was the earliest and the latest met in whitehouse:"
   ]
  },
  {
   "cell_type": "code",
   "execution_count": 43,
   "metadata": {},
   "outputs": [
    {
     "name": "stdout",
     "output_type": "stream",
     "text": [
      "earliest:\n",
      "06:00:00\n",
      "latest:\n",
      "21:30:00\n"
     ]
    }
   ],
   "source": [
    "earliest_appointment = min(appointment_times)\n",
    "latest_appointment = max(appointment_times)\n",
    "print(\"earliest:\")\n",
    "print(earliest_appointment)\n",
    "print(\"latest:\")\n",
    "print(latest_appointment)"
   ]
  },
  {
   "cell_type": "markdown",
   "metadata": {},
   "source": [
    "## The timedelta object introdutcion"
   ]
  },
  {
   "cell_type": "markdown",
   "metadata": {},
   "source": [
    "lets see if the datetime objects work with mathematical operators like + or -"
   ]
  },
  {
   "cell_type": "code",
   "execution_count": 48,
   "metadata": {},
   "outputs": [],
   "source": [
    "date_1 = dt.date(2021,12,14)\n",
    "date_2 = dt.date(2029,12,15)\n",
    "# print(date_1 + date_2) # gonna occur an error"
   ]
  },
  {
   "cell_type": "code",
   "execution_count": 50,
   "metadata": {},
   "outputs": [
    {
     "name": "stdout",
     "output_type": "stream",
     "text": [
      "2923 days, 0:00:00\n"
     ]
    }
   ],
   "source": [
    "print(date_2 - date_1) # in this case we re gonna get time difference"
   ]
  },
  {
   "cell_type": "markdown",
   "metadata": {},
   "source": [
    "Now we get a time difference "
   ]
  },
  {
   "cell_type": "code",
   "execution_count": 51,
   "metadata": {},
   "outputs": [
    {
     "name": "stdout",
     "output_type": "stream",
     "text": [
      "-2923 days, 0:00:00\n"
     ]
    }
   ],
   "source": [
    "print(date_1 - date_2)"
   ]
  },
  {
   "cell_type": "markdown",
   "metadata": {},
   "source": [
    "It works in both currence"
   ]
  },
  {
   "cell_type": "code",
   "execution_count": 54,
   "metadata": {},
   "outputs": [],
   "source": [
    "diff = date_2 - date_1"
   ]
  },
  {
   "cell_type": "markdown",
   "metadata": {},
   "source": [
    "Let's see the type:"
   ]
  },
  {
   "cell_type": "code",
   "execution_count": 57,
   "metadata": {},
   "outputs": [
    {
     "name": "stdout",
     "output_type": "stream",
     "text": [
      "<class 'datetime.timedelta'>\n"
     ]
    }
   ],
   "source": [
    "print(type(diff))"
   ]
  },
  {
   "cell_type": "markdown",
   "metadata": {},
   "source": [
    "We observed that we can create an object of the timedelta class using the - operator, but we can also instantiate a timedelta class directly. Let's look at the syntax used for this:"
   ]
  },
  {
   "cell_type": "code",
   "execution_count": 61,
   "metadata": {},
   "outputs": [],
   "source": [
    "dif = dt.timedelta(days=10, seconds=0, microseconds=0,\n",
    "                   milliseconds=0, minutes=0, hours=0, weeks=0)"
   ]
  },
  {
   "cell_type": "code",
   "execution_count": 72,
   "metadata": {},
   "outputs": [
    {
     "name": "stdout",
     "output_type": "stream",
     "text": [
      "10 days, 0:00:00\n"
     ]
    }
   ],
   "source": [
    "print(dif)"
   ]
  },
  {
   "cell_type": "markdown",
   "metadata": {},
   "source": [
    "and so on:"
   ]
  },
  {
   "cell_type": "code",
   "execution_count": 73,
   "metadata": {},
   "outputs": [
    {
     "name": "stdout",
     "output_type": "stream",
     "text": [
      "100 days, 0:00:00\n"
     ]
    }
   ],
   "source": [
    "print(dt.timedelta(days=100))"
   ]
  },
  {
   "cell_type": "code",
   "execution_count": 74,
   "metadata": {},
   "outputs": [
    {
     "name": "stdout",
     "output_type": "stream",
     "text": [
      "49 days, 0:00:00\n"
     ]
    }
   ],
   "source": [
    "print(dt.timedelta(weeks = 7))"
   ]
  },
  {
   "cell_type": "code",
   "execution_count": 78,
   "metadata": {},
   "outputs": [
    {
     "name": "stdout",
     "output_type": "stream",
     "text": [
      "2 days, 0:00:00\n"
     ]
    }
   ],
   "source": [
    "print(dt.timedelta(days=2))"
   ]
  },
  {
   "cell_type": "markdown",
   "metadata": {},
   "source": [
    "We can also use timedelta objects to add or subtract time from datetime objects. Let's look at the example below, where we look to find the date one week from a date object:"
   ]
  },
  {
   "cell_type": "code",
   "execution_count": 86,
   "metadata": {},
   "outputs": [
    {
     "name": "stdout",
     "output_type": "stream",
     "text": [
      "1999-01-16\n"
     ]
    }
   ],
   "source": [
    "d_1 = dt.date(1999, 1, 9)\n",
    "d_1_plus_1wk = d_1 + dt.timedelta(weeks=1, hours= 13)\n",
    "print(d_1_plus_1wk)"
   ]
  },
  {
   "cell_type": "markdown",
   "metadata": {},
   "source": [
    "Now we re gonna use it to calculate the lenght of the meetings. First we gonna convert the string to the datetime object from the appt_end column"
   ]
  },
  {
   "cell_type": "code",
   "execution_count": 89,
   "metadata": {},
   "outputs": [],
   "source": [
    "datetime_format = \"%m/%d/%y %H:%M\"\n",
    "for row in data:\n",
    "    end_date = row[3]\n",
    "    end_date = dt.datetime.strptime(end_date, datetime_format)\n",
    "    row[3] = end_date"
   ]
  },
  {
   "cell_type": "markdown",
   "metadata": {},
   "source": [
    "Now we can make a frequency table:"
   ]
  },
  {
   "cell_type": "code",
   "execution_count": 90,
   "metadata": {},
   "outputs": [],
   "source": [
    "appt_lenghts = {}\n",
    "\n",
    "for row in data:\n",
    "    apt_start = row[2]\n",
    "    apt_end = row[3]\n",
    "    time_delta = apt_end - apt_start\n",
    "    \n",
    "    if time_delta not in appt_lenghts:\n",
    "        appt_lenghts[time_delta] = 1\n",
    "    else:\n",
    "        appt_lenghts[time_delta] += 1"
   ]
  },
  {
   "cell_type": "code",
   "execution_count": 94,
   "metadata": {},
   "outputs": [
    {
     "name": "stdout",
     "output_type": "stream",
     "text": [
      "2:29:00\n",
      "16 days, 12:59:00\n"
     ]
    }
   ],
   "source": [
    "print(min(appt_lenghts))\n",
    "print(max(appt_lenghts))"
   ]
  }
 ],
 "metadata": {
  "kernelspec": {
   "display_name": "Python 3",
   "language": "python",
   "name": "python3"
  },
  "language_info": {
   "codemirror_mode": {
    "name": "ipython",
    "version": 3
   },
   "file_extension": ".py",
   "mimetype": "text/x-python",
   "name": "python",
   "nbconvert_exporter": "python",
   "pygments_lexer": "ipython3",
   "version": "3.8.5"
  }
 },
 "nbformat": 4,
 "nbformat_minor": 4
}
