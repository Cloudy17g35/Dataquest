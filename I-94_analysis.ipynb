{
 "cells": [
  {
   "cell_type": "markdown",
   "metadata": {},
   "source": [
    "# I-94 analysis"
   ]
  },
  {
   "cell_type": "markdown",
   "metadata": {},
   "source": [
    "In this project we re gonna look at some traffic problems on I-94, make the data visualisation and find solutions for this problems. I-94 is an east–west Interstate Highway connecting the Great Lakes more abount it [here](https://en.wikipedia.org/wiki/Interstate_94). Data set: [link](https://archive.ics.uci.edu/ml/machine-learning-databases/00492/)"
   ]
  },
  {
   "cell_type": "markdown",
   "metadata": {},
   "source": [
    "At first we re gonna import some useful libaries"
   ]
  },
  {
   "cell_type": "code",
   "execution_count": 1,
   "metadata": {},
   "outputs": [],
   "source": [
    "import numpy as np\n",
    "import pandas as pd\n",
    "import matplotlib.pyplot as plt\n",
    "import seaborn as sns"
   ]
  },
  {
   "cell_type": "markdown",
   "metadata": {},
   "source": [
    "Now we re gonna read the file using pandas read_csv method:"
   ]
  },
  {
   "cell_type": "code",
   "execution_count": 2,
   "metadata": {},
   "outputs": [],
   "source": [
    "traffic = pd.read_csv(\"Metro_Interstate_Traffic_Volume.csv.gz\")"
   ]
  },
  {
   "cell_type": "markdown",
   "metadata": {},
   "source": [
    "Inspect firt 5 rows, last 5 rows, use the info and describe method:"
   ]
  },
  {
   "cell_type": "code",
   "execution_count": 3,
   "metadata": {},
   "outputs": [
    {
     "data": {
      "text/html": [
       "<div>\n",
       "<style scoped>\n",
       "    .dataframe tbody tr th:only-of-type {\n",
       "        vertical-align: middle;\n",
       "    }\n",
       "\n",
       "    .dataframe tbody tr th {\n",
       "        vertical-align: top;\n",
       "    }\n",
       "\n",
       "    .dataframe thead th {\n",
       "        text-align: right;\n",
       "    }\n",
       "</style>\n",
       "<table border=\"1\" class=\"dataframe\">\n",
       "  <thead>\n",
       "    <tr style=\"text-align: right;\">\n",
       "      <th></th>\n",
       "      <th>holiday</th>\n",
       "      <th>temp</th>\n",
       "      <th>rain_1h</th>\n",
       "      <th>snow_1h</th>\n",
       "      <th>clouds_all</th>\n",
       "      <th>weather_main</th>\n",
       "      <th>weather_description</th>\n",
       "      <th>date_time</th>\n",
       "      <th>traffic_volume</th>\n",
       "    </tr>\n",
       "  </thead>\n",
       "  <tbody>\n",
       "    <tr>\n",
       "      <th>0</th>\n",
       "      <td>None</td>\n",
       "      <td>288.28</td>\n",
       "      <td>0.0</td>\n",
       "      <td>0.0</td>\n",
       "      <td>40</td>\n",
       "      <td>Clouds</td>\n",
       "      <td>scattered clouds</td>\n",
       "      <td>2012-10-02 09:00:00</td>\n",
       "      <td>5545</td>\n",
       "    </tr>\n",
       "    <tr>\n",
       "      <th>1</th>\n",
       "      <td>None</td>\n",
       "      <td>289.36</td>\n",
       "      <td>0.0</td>\n",
       "      <td>0.0</td>\n",
       "      <td>75</td>\n",
       "      <td>Clouds</td>\n",
       "      <td>broken clouds</td>\n",
       "      <td>2012-10-02 10:00:00</td>\n",
       "      <td>4516</td>\n",
       "    </tr>\n",
       "    <tr>\n",
       "      <th>2</th>\n",
       "      <td>None</td>\n",
       "      <td>289.58</td>\n",
       "      <td>0.0</td>\n",
       "      <td>0.0</td>\n",
       "      <td>90</td>\n",
       "      <td>Clouds</td>\n",
       "      <td>overcast clouds</td>\n",
       "      <td>2012-10-02 11:00:00</td>\n",
       "      <td>4767</td>\n",
       "    </tr>\n",
       "    <tr>\n",
       "      <th>3</th>\n",
       "      <td>None</td>\n",
       "      <td>290.13</td>\n",
       "      <td>0.0</td>\n",
       "      <td>0.0</td>\n",
       "      <td>90</td>\n",
       "      <td>Clouds</td>\n",
       "      <td>overcast clouds</td>\n",
       "      <td>2012-10-02 12:00:00</td>\n",
       "      <td>5026</td>\n",
       "    </tr>\n",
       "    <tr>\n",
       "      <th>4</th>\n",
       "      <td>None</td>\n",
       "      <td>291.14</td>\n",
       "      <td>0.0</td>\n",
       "      <td>0.0</td>\n",
       "      <td>75</td>\n",
       "      <td>Clouds</td>\n",
       "      <td>broken clouds</td>\n",
       "      <td>2012-10-02 13:00:00</td>\n",
       "      <td>4918</td>\n",
       "    </tr>\n",
       "  </tbody>\n",
       "</table>\n",
       "</div>"
      ],
      "text/plain": [
       "  holiday    temp  rain_1h  snow_1h  clouds_all weather_main  \\\n",
       "0    None  288.28      0.0      0.0          40       Clouds   \n",
       "1    None  289.36      0.0      0.0          75       Clouds   \n",
       "2    None  289.58      0.0      0.0          90       Clouds   \n",
       "3    None  290.13      0.0      0.0          90       Clouds   \n",
       "4    None  291.14      0.0      0.0          75       Clouds   \n",
       "\n",
       "  weather_description            date_time  traffic_volume  \n",
       "0    scattered clouds  2012-10-02 09:00:00            5545  \n",
       "1       broken clouds  2012-10-02 10:00:00            4516  \n",
       "2     overcast clouds  2012-10-02 11:00:00            4767  \n",
       "3     overcast clouds  2012-10-02 12:00:00            5026  \n",
       "4       broken clouds  2012-10-02 13:00:00            4918  "
      ]
     },
     "execution_count": 3,
     "metadata": {},
     "output_type": "execute_result"
    }
   ],
   "source": [
    "traffic.head()"
   ]
  },
  {
   "cell_type": "code",
   "execution_count": 4,
   "metadata": {},
   "outputs": [
    {
     "data": {
      "text/html": [
       "<div>\n",
       "<style scoped>\n",
       "    .dataframe tbody tr th:only-of-type {\n",
       "        vertical-align: middle;\n",
       "    }\n",
       "\n",
       "    .dataframe tbody tr th {\n",
       "        vertical-align: top;\n",
       "    }\n",
       "\n",
       "    .dataframe thead th {\n",
       "        text-align: right;\n",
       "    }\n",
       "</style>\n",
       "<table border=\"1\" class=\"dataframe\">\n",
       "  <thead>\n",
       "    <tr style=\"text-align: right;\">\n",
       "      <th></th>\n",
       "      <th>holiday</th>\n",
       "      <th>temp</th>\n",
       "      <th>rain_1h</th>\n",
       "      <th>snow_1h</th>\n",
       "      <th>clouds_all</th>\n",
       "      <th>weather_main</th>\n",
       "      <th>weather_description</th>\n",
       "      <th>date_time</th>\n",
       "      <th>traffic_volume</th>\n",
       "    </tr>\n",
       "  </thead>\n",
       "  <tbody>\n",
       "    <tr>\n",
       "      <th>48199</th>\n",
       "      <td>None</td>\n",
       "      <td>283.45</td>\n",
       "      <td>0.0</td>\n",
       "      <td>0.0</td>\n",
       "      <td>75</td>\n",
       "      <td>Clouds</td>\n",
       "      <td>broken clouds</td>\n",
       "      <td>2018-09-30 19:00:00</td>\n",
       "      <td>3543</td>\n",
       "    </tr>\n",
       "    <tr>\n",
       "      <th>48200</th>\n",
       "      <td>None</td>\n",
       "      <td>282.76</td>\n",
       "      <td>0.0</td>\n",
       "      <td>0.0</td>\n",
       "      <td>90</td>\n",
       "      <td>Clouds</td>\n",
       "      <td>overcast clouds</td>\n",
       "      <td>2018-09-30 20:00:00</td>\n",
       "      <td>2781</td>\n",
       "    </tr>\n",
       "    <tr>\n",
       "      <th>48201</th>\n",
       "      <td>None</td>\n",
       "      <td>282.73</td>\n",
       "      <td>0.0</td>\n",
       "      <td>0.0</td>\n",
       "      <td>90</td>\n",
       "      <td>Thunderstorm</td>\n",
       "      <td>proximity thunderstorm</td>\n",
       "      <td>2018-09-30 21:00:00</td>\n",
       "      <td>2159</td>\n",
       "    </tr>\n",
       "    <tr>\n",
       "      <th>48202</th>\n",
       "      <td>None</td>\n",
       "      <td>282.09</td>\n",
       "      <td>0.0</td>\n",
       "      <td>0.0</td>\n",
       "      <td>90</td>\n",
       "      <td>Clouds</td>\n",
       "      <td>overcast clouds</td>\n",
       "      <td>2018-09-30 22:00:00</td>\n",
       "      <td>1450</td>\n",
       "    </tr>\n",
       "    <tr>\n",
       "      <th>48203</th>\n",
       "      <td>None</td>\n",
       "      <td>282.12</td>\n",
       "      <td>0.0</td>\n",
       "      <td>0.0</td>\n",
       "      <td>90</td>\n",
       "      <td>Clouds</td>\n",
       "      <td>overcast clouds</td>\n",
       "      <td>2018-09-30 23:00:00</td>\n",
       "      <td>954</td>\n",
       "    </tr>\n",
       "  </tbody>\n",
       "</table>\n",
       "</div>"
      ],
      "text/plain": [
       "      holiday    temp  rain_1h  snow_1h  clouds_all  weather_main  \\\n",
       "48199    None  283.45      0.0      0.0          75        Clouds   \n",
       "48200    None  282.76      0.0      0.0          90        Clouds   \n",
       "48201    None  282.73      0.0      0.0          90  Thunderstorm   \n",
       "48202    None  282.09      0.0      0.0          90        Clouds   \n",
       "48203    None  282.12      0.0      0.0          90        Clouds   \n",
       "\n",
       "          weather_description            date_time  traffic_volume  \n",
       "48199           broken clouds  2018-09-30 19:00:00            3543  \n",
       "48200         overcast clouds  2018-09-30 20:00:00            2781  \n",
       "48201  proximity thunderstorm  2018-09-30 21:00:00            2159  \n",
       "48202         overcast clouds  2018-09-30 22:00:00            1450  \n",
       "48203         overcast clouds  2018-09-30 23:00:00             954  "
      ]
     },
     "execution_count": 4,
     "metadata": {},
     "output_type": "execute_result"
    }
   ],
   "source": [
    "traffic.tail()"
   ]
  },
  {
   "cell_type": "code",
   "execution_count": 5,
   "metadata": {},
   "outputs": [
    {
     "name": "stdout",
     "output_type": "stream",
     "text": [
      "<class 'pandas.core.frame.DataFrame'>\n",
      "RangeIndex: 48204 entries, 0 to 48203\n",
      "Data columns (total 9 columns):\n",
      " #   Column               Non-Null Count  Dtype  \n",
      "---  ------               --------------  -----  \n",
      " 0   holiday              48204 non-null  object \n",
      " 1   temp                 48204 non-null  float64\n",
      " 2   rain_1h              48204 non-null  float64\n",
      " 3   snow_1h              48204 non-null  float64\n",
      " 4   clouds_all           48204 non-null  int64  \n",
      " 5   weather_main         48204 non-null  object \n",
      " 6   weather_description  48204 non-null  object \n",
      " 7   date_time            48204 non-null  object \n",
      " 8   traffic_volume       48204 non-null  int64  \n",
      "dtypes: float64(3), int64(2), object(4)\n",
      "memory usage: 3.3+ MB\n"
     ]
    }
   ],
   "source": [
    "traffic.info()"
   ]
  },
  {
   "cell_type": "markdown",
   "metadata": {},
   "source": [
    "We can see that numeric values dominate in this set, but what is disturbing? It's the date time which is object type, we wanna to change it to the date time object:"
   ]
  },
  {
   "cell_type": "code",
   "execution_count": 6,
   "metadata": {},
   "outputs": [],
   "source": [
    "traffic[\"date_time\"] = pd.to_datetime(traffic.date_time)"
   ]
  },
  {
   "cell_type": "code",
   "execution_count": 7,
   "metadata": {},
   "outputs": [
    {
     "data": {
      "text/plain": [
       "dtype('<M8[ns]')"
      ]
     },
     "execution_count": 7,
     "metadata": {},
     "output_type": "execute_result"
    }
   ],
   "source": [
    "traffic.date_time.dtype"
   ]
  },
  {
   "cell_type": "markdown",
   "metadata": {},
   "source": [
    "All right now it looks quite good so we re gonna use the describe method next:"
   ]
  },
  {
   "cell_type": "code",
   "execution_count": 8,
   "metadata": {},
   "outputs": [
    {
     "data": {
      "text/html": [
       "<div>\n",
       "<style scoped>\n",
       "    .dataframe tbody tr th:only-of-type {\n",
       "        vertical-align: middle;\n",
       "    }\n",
       "\n",
       "    .dataframe tbody tr th {\n",
       "        vertical-align: top;\n",
       "    }\n",
       "\n",
       "    .dataframe thead th {\n",
       "        text-align: right;\n",
       "    }\n",
       "</style>\n",
       "<table border=\"1\" class=\"dataframe\">\n",
       "  <thead>\n",
       "    <tr style=\"text-align: right;\">\n",
       "      <th></th>\n",
       "      <th>holiday</th>\n",
       "      <th>temp</th>\n",
       "      <th>rain_1h</th>\n",
       "      <th>snow_1h</th>\n",
       "      <th>clouds_all</th>\n",
       "      <th>weather_main</th>\n",
       "      <th>weather_description</th>\n",
       "      <th>date_time</th>\n",
       "      <th>traffic_volume</th>\n",
       "    </tr>\n",
       "  </thead>\n",
       "  <tbody>\n",
       "    <tr>\n",
       "      <th>count</th>\n",
       "      <td>48204</td>\n",
       "      <td>48204.000000</td>\n",
       "      <td>48204.000000</td>\n",
       "      <td>48204.000000</td>\n",
       "      <td>48204.000000</td>\n",
       "      <td>48204</td>\n",
       "      <td>48204</td>\n",
       "      <td>48204</td>\n",
       "      <td>48204.000000</td>\n",
       "    </tr>\n",
       "    <tr>\n",
       "      <th>unique</th>\n",
       "      <td>12</td>\n",
       "      <td>NaN</td>\n",
       "      <td>NaN</td>\n",
       "      <td>NaN</td>\n",
       "      <td>NaN</td>\n",
       "      <td>11</td>\n",
       "      <td>38</td>\n",
       "      <td>NaN</td>\n",
       "      <td>NaN</td>\n",
       "    </tr>\n",
       "    <tr>\n",
       "      <th>top</th>\n",
       "      <td>None</td>\n",
       "      <td>NaN</td>\n",
       "      <td>NaN</td>\n",
       "      <td>NaN</td>\n",
       "      <td>NaN</td>\n",
       "      <td>Clouds</td>\n",
       "      <td>sky is clear</td>\n",
       "      <td>NaN</td>\n",
       "      <td>NaN</td>\n",
       "    </tr>\n",
       "    <tr>\n",
       "      <th>freq</th>\n",
       "      <td>48143</td>\n",
       "      <td>NaN</td>\n",
       "      <td>NaN</td>\n",
       "      <td>NaN</td>\n",
       "      <td>NaN</td>\n",
       "      <td>15164</td>\n",
       "      <td>11665</td>\n",
       "      <td>NaN</td>\n",
       "      <td>NaN</td>\n",
       "    </tr>\n",
       "    <tr>\n",
       "      <th>mean</th>\n",
       "      <td>NaN</td>\n",
       "      <td>281.205870</td>\n",
       "      <td>0.334264</td>\n",
       "      <td>0.000222</td>\n",
       "      <td>49.362231</td>\n",
       "      <td>NaN</td>\n",
       "      <td>NaN</td>\n",
       "      <td>2016-01-05 10:46:16.773711616</td>\n",
       "      <td>3259.818355</td>\n",
       "    </tr>\n",
       "    <tr>\n",
       "      <th>min</th>\n",
       "      <td>NaN</td>\n",
       "      <td>0.000000</td>\n",
       "      <td>0.000000</td>\n",
       "      <td>0.000000</td>\n",
       "      <td>0.000000</td>\n",
       "      <td>NaN</td>\n",
       "      <td>NaN</td>\n",
       "      <td>2012-10-02 09:00:00</td>\n",
       "      <td>0.000000</td>\n",
       "    </tr>\n",
       "    <tr>\n",
       "      <th>25%</th>\n",
       "      <td>NaN</td>\n",
       "      <td>272.160000</td>\n",
       "      <td>0.000000</td>\n",
       "      <td>0.000000</td>\n",
       "      <td>1.000000</td>\n",
       "      <td>NaN</td>\n",
       "      <td>NaN</td>\n",
       "      <td>2014-02-06 11:45:00</td>\n",
       "      <td>1193.000000</td>\n",
       "    </tr>\n",
       "    <tr>\n",
       "      <th>50%</th>\n",
       "      <td>NaN</td>\n",
       "      <td>282.450000</td>\n",
       "      <td>0.000000</td>\n",
       "      <td>0.000000</td>\n",
       "      <td>64.000000</td>\n",
       "      <td>NaN</td>\n",
       "      <td>NaN</td>\n",
       "      <td>2016-06-11 03:30:00</td>\n",
       "      <td>3380.000000</td>\n",
       "    </tr>\n",
       "    <tr>\n",
       "      <th>75%</th>\n",
       "      <td>NaN</td>\n",
       "      <td>291.806000</td>\n",
       "      <td>0.000000</td>\n",
       "      <td>0.000000</td>\n",
       "      <td>90.000000</td>\n",
       "      <td>NaN</td>\n",
       "      <td>NaN</td>\n",
       "      <td>2017-08-11 06:00:00</td>\n",
       "      <td>4933.000000</td>\n",
       "    </tr>\n",
       "    <tr>\n",
       "      <th>max</th>\n",
       "      <td>NaN</td>\n",
       "      <td>310.070000</td>\n",
       "      <td>9831.300000</td>\n",
       "      <td>0.510000</td>\n",
       "      <td>100.000000</td>\n",
       "      <td>NaN</td>\n",
       "      <td>NaN</td>\n",
       "      <td>2018-09-30 23:00:00</td>\n",
       "      <td>7280.000000</td>\n",
       "    </tr>\n",
       "    <tr>\n",
       "      <th>std</th>\n",
       "      <td>NaN</td>\n",
       "      <td>13.338232</td>\n",
       "      <td>44.789133</td>\n",
       "      <td>0.008168</td>\n",
       "      <td>39.015750</td>\n",
       "      <td>NaN</td>\n",
       "      <td>NaN</td>\n",
       "      <td>NaN</td>\n",
       "      <td>1986.860670</td>\n",
       "    </tr>\n",
       "  </tbody>\n",
       "</table>\n",
       "</div>"
      ],
      "text/plain": [
       "       holiday          temp       rain_1h       snow_1h    clouds_all  \\\n",
       "count    48204  48204.000000  48204.000000  48204.000000  48204.000000   \n",
       "unique      12           NaN           NaN           NaN           NaN   \n",
       "top       None           NaN           NaN           NaN           NaN   \n",
       "freq     48143           NaN           NaN           NaN           NaN   \n",
       "mean       NaN    281.205870      0.334264      0.000222     49.362231   \n",
       "min        NaN      0.000000      0.000000      0.000000      0.000000   \n",
       "25%        NaN    272.160000      0.000000      0.000000      1.000000   \n",
       "50%        NaN    282.450000      0.000000      0.000000     64.000000   \n",
       "75%        NaN    291.806000      0.000000      0.000000     90.000000   \n",
       "max        NaN    310.070000   9831.300000      0.510000    100.000000   \n",
       "std        NaN     13.338232     44.789133      0.008168     39.015750   \n",
       "\n",
       "       weather_main weather_description                      date_time  \\\n",
       "count         48204               48204                          48204   \n",
       "unique           11                  38                            NaN   \n",
       "top          Clouds        sky is clear                            NaN   \n",
       "freq          15164               11665                            NaN   \n",
       "mean            NaN                 NaN  2016-01-05 10:46:16.773711616   \n",
       "min             NaN                 NaN            2012-10-02 09:00:00   \n",
       "25%             NaN                 NaN            2014-02-06 11:45:00   \n",
       "50%             NaN                 NaN            2016-06-11 03:30:00   \n",
       "75%             NaN                 NaN            2017-08-11 06:00:00   \n",
       "max             NaN                 NaN            2018-09-30 23:00:00   \n",
       "std             NaN                 NaN                            NaN   \n",
       "\n",
       "        traffic_volume  \n",
       "count     48204.000000  \n",
       "unique             NaN  \n",
       "top                NaN  \n",
       "freq               NaN  \n",
       "mean       3259.818355  \n",
       "min           0.000000  \n",
       "25%        1193.000000  \n",
       "50%        3380.000000  \n",
       "75%        4933.000000  \n",
       "max        7280.000000  \n",
       "std        1986.860670  "
      ]
     },
     "execution_count": 8,
     "metadata": {},
     "output_type": "execute_result"
    }
   ],
   "source": [
    "traffic.describe(include=\"all\", datetime_is_numeric=True)"
   ]
  },
  {
   "cell_type": "markdown",
   "metadata": {},
   "source": [
    "We re gonna inspect also the null values:"
   ]
  },
  {
   "cell_type": "code",
   "execution_count": 9,
   "metadata": {},
   "outputs": [
    {
     "data": {
      "text/plain": [
       "holiday                0\n",
       "temp                   0\n",
       "rain_1h                0\n",
       "snow_1h                0\n",
       "clouds_all             0\n",
       "weather_main           0\n",
       "weather_description    0\n",
       "date_time              0\n",
       "traffic_volume         0\n",
       "dtype: int64"
      ]
     },
     "execution_count": 9,
     "metadata": {},
     "output_type": "execute_result"
    }
   ],
   "source": [
    "traffic.isnull().sum()"
   ]
  },
  {
   "cell_type": "markdown",
   "metadata": {},
   "source": [
    "It's allright, we have made first \"scratching surfaces\" investigation, it's time to go further!"
   ]
  },
  {
   "cell_type": "markdown",
   "metadata": {},
   "source": [
    "## Analyzing Traffic Volume"
   ]
  },
  {
   "cell_type": "code",
   "execution_count": 10,
   "metadata": {},
   "outputs": [
    {
     "data": {
      "image/png": "[encoded data removed]",
      "text/plain": [
       "<Figure size 432x288 with 1 Axes>"
      ]
     },
     "metadata": {
      "needs_background": "light"
     },
     "output_type": "display_data"
    }
   ],
   "source": [
    "traffic.traffic_volume.hist()\n",
    "plt.xlabel(\"traffic_volume\")\n",
    "plt.ylabel(\"frequency\")\n",
    "plt.title(\"traffic_volume frequency\", fontsize=18)\n",
    "plt.show()"
   ]
  },
  {
   "cell_type": "code",
   "execution_count": 11,
   "metadata": {},
   "outputs": [
    {
     "data": {
      "text/plain": [
       "count    48204.000000\n",
       "mean      3259.818355\n",
       "std       1986.860670\n",
       "min          0.000000\n",
       "25%       1193.000000\n",
       "50%       3380.000000\n",
       "75%       4933.000000\n",
       "max       7280.000000\n",
       "Name: traffic_volume, dtype: float64"
      ]
     },
     "execution_count": 11,
     "metadata": {},
     "output_type": "execute_result"
    }
   ],
   "source": [
    "traffic[\"traffic_volume\"].describe()"
   ]
  },
  {
   "cell_type": "markdown",
   "metadata": {},
   "source": [
    "Between 2012-10-01 09:00:00 and 2018-09-30 23:00:00, the hourly traffic varied from 0 to 7280 cars, with an average 3260 cars, about 25 % of the time there were only 1193 cars or fewer passing the station every each hour - this probably occurs durning the night, or when a road is under construction. However 25 % of the time, the traffic volume was four times as much (4,993 cars or more)"
   ]
  },
  {
   "cell_type": "markdown",
   "metadata": {},
   "source": [
    "this observation lead us to further obervation: the night time and the daytime"
   ]
  },
  {
   "cell_type": "markdown",
   "metadata": {},
   "source": [
    "## Comparing the nighttime and daytime"
   ]
  },
  {
   "cell_type": "markdown",
   "metadata": {},
   "source": [
    "We will start by dividing the dataset int two parts:\n",
    "\n",
    "* daytime data: between 7 a.m to 7 p.m\n",
    "\n",
    "* nighttime data: between 7 p.m to 7.am"
   ]
  },
  {
   "cell_type": "code",
   "execution_count": 12,
   "metadata": {},
   "outputs": [
    {
     "data": {
      "text/plain": [
       "array([ 9, 10, 11, 12, 13, 14, 15, 16, 17, 18, 19, 20, 21, 22, 23,  0,  1,\n",
       "        2,  3,  4,  5,  6,  8,  7], dtype=int64)"
      ]
     },
     "execution_count": 12,
     "metadata": {},
     "output_type": "execute_result"
    }
   ],
   "source": [
    "traffic.date_time.dt.hour.unique()"
   ]
  },
  {
   "cell_type": "markdown",
   "metadata": {},
   "source": [
    "We can see that time is in 24 format so it' make it easier to sort"
   ]
  },
  {
   "cell_type": "code",
   "execution_count": 13,
   "metadata": {},
   "outputs": [],
   "source": [
    "daytime = traffic.loc[traffic.date_time.dt.hour.between(7,18)].copy()"
   ]
  },
  {
   "cell_type": "code",
   "execution_count": 14,
   "metadata": {},
   "outputs": [
    {
     "data": {
      "text/plain": [
       "array([ 7,  8,  9, 10, 11, 12, 13, 14, 15, 16, 17, 18], dtype=int64)"
      ]
     },
     "execution_count": 14,
     "metadata": {},
     "output_type": "execute_result"
    }
   ],
   "source": [
    "daytime.date_time.dt.hour.sort_values().unique()"
   ]
  },
  {
   "cell_type": "code",
   "execution_count": 15,
   "metadata": {},
   "outputs": [],
   "source": [
    "nighttime = traffic.loc[(traffic.date_time.dt.hour >= 19) | (traffic.date_time.dt.hour < 7)]"
   ]
  },
  {
   "cell_type": "code",
   "execution_count": 16,
   "metadata": {},
   "outputs": [
    {
     "data": {
      "text/plain": [
       "array([19, 20, 21, 22, 23,  0,  1,  2,  3,  4,  5,  6], dtype=int64)"
      ]
     },
     "execution_count": 16,
     "metadata": {},
     "output_type": "execute_result"
    }
   ],
   "source": [
    "nighttime.date_time.dt.hour.unique()"
   ]
  },
  {
   "cell_type": "code",
   "execution_count": 17,
   "metadata": {},
   "outputs": [
    {
     "name": "stdout",
     "output_type": "stream",
     "text": [
      "daytime: (23877, 9)\n",
      "\n",
      "nighttime: (24327, 9)\n"
     ]
    }
   ],
   "source": [
    "print(\"daytime: \" + str(daytime.shape))\n",
    "print()\n",
    "print(\"nighttime: \" + str(nighttime.shape))"
   ]
  },
  {
   "cell_type": "markdown",
   "metadata": {},
   "source": [
    "The signifficant difference in row numbers between day and night is due to a few hours of missing data:"
   ]
  },
  {
   "cell_type": "code",
   "execution_count": 18,
   "metadata": {},
   "outputs": [
    {
     "data": {
      "text/html": [
       "<div>\n",
       "<style scoped>\n",
       "    .dataframe tbody tr th:only-of-type {\n",
       "        vertical-align: middle;\n",
       "    }\n",
       "\n",
       "    .dataframe tbody tr th {\n",
       "        vertical-align: top;\n",
       "    }\n",
       "\n",
       "    .dataframe thead th {\n",
       "        text-align: right;\n",
       "    }\n",
       "</style>\n",
       "<table border=\"1\" class=\"dataframe\">\n",
       "  <thead>\n",
       "    <tr style=\"text-align: right;\">\n",
       "      <th></th>\n",
       "      <th>holiday</th>\n",
       "      <th>temp</th>\n",
       "      <th>rain_1h</th>\n",
       "      <th>snow_1h</th>\n",
       "      <th>clouds_all</th>\n",
       "      <th>weather_main</th>\n",
       "      <th>weather_description</th>\n",
       "      <th>date_time</th>\n",
       "      <th>traffic_volume</th>\n",
       "    </tr>\n",
       "  </thead>\n",
       "  <tbody>\n",
       "    <tr>\n",
       "      <th>176</th>\n",
       "      <td>None</td>\n",
       "      <td>281.17</td>\n",
       "      <td>0.0</td>\n",
       "      <td>0.0</td>\n",
       "      <td>90</td>\n",
       "      <td>Clouds</td>\n",
       "      <td>overcast clouds</td>\n",
       "      <td>2012-10-10 03:00:00</td>\n",
       "      <td>361</td>\n",
       "    </tr>\n",
       "    <tr>\n",
       "      <th>177</th>\n",
       "      <td>None</td>\n",
       "      <td>281.25</td>\n",
       "      <td>0.0</td>\n",
       "      <td>0.0</td>\n",
       "      <td>92</td>\n",
       "      <td>Clear</td>\n",
       "      <td>sky is clear</td>\n",
       "      <td>2012-10-10 06:00:00</td>\n",
       "      <td>5875</td>\n",
       "    </tr>\n",
       "  </tbody>\n",
       "</table>\n",
       "</div>"
      ],
      "text/plain": [
       "    holiday    temp  rain_1h  snow_1h  clouds_all weather_main  \\\n",
       "176    None  281.17      0.0      0.0          90       Clouds   \n",
       "177    None  281.25      0.0      0.0          92        Clear   \n",
       "\n",
       "    weather_description           date_time  traffic_volume  \n",
       "176     overcast clouds 2012-10-10 03:00:00             361  \n",
       "177        sky is clear 2012-10-10 06:00:00            5875  "
      ]
     },
     "execution_count": 18,
     "metadata": {},
     "output_type": "execute_result"
    }
   ],
   "source": [
    "traffic.iloc[176:178]"
   ]
  },
  {
   "cell_type": "markdown",
   "metadata": {},
   "source": [
    "## Comparing the nighttime and daytime pt.2"
   ]
  },
  {
   "cell_type": "code",
   "execution_count": 19,
   "metadata": {},
   "outputs": [
    {
     "data": {
      "image/png": "[encoded data removed]",
      "text/plain": [
       "<Figure size 720x864 with 2 Axes>"
      ]
     },
     "metadata": {
      "needs_background": "light"
     },
     "output_type": "display_data"
    }
   ],
   "source": [
    "plt.figure(figsize=(10,12))\n",
    "plt.subplot(3,2,1)\n",
    "plt.hist(daytime[\"traffic_volume\"])\n",
    "plt.title(\"Daytime Traffic\", fontsize=18)\n",
    "plt.xlabel(\"Traffic Volume\", fontsize = 12)\n",
    "plt.ylabel(\"Frequency\", fontsize=12)\n",
    "plt.ylim([1,8000])\n",
    "plt.xlim([1,7500])\n",
    "\n",
    "plt.subplot(3,2,2)\n",
    "plt.hist(nighttime[\"traffic_volume\"])\n",
    "plt.title(\"Nighttime Traffic\", fontsize = 18)\n",
    "plt.ylabel(\"Frequency\", fontsize=12)\n",
    "plt.xlabel(\"Traffic Volume\", fontsize=12)\n",
    "plt.ylim([1,8000])\n",
    "plt.xlim([1, 7500])\n",
    "\n",
    "plt.show()"
   ]
  },
  {
   "cell_type": "code",
   "execution_count": 20,
   "metadata": {},
   "outputs": [
    {
     "data": {
      "text/plain": [
       "count    23877.000000\n",
       "mean      4762.047452\n",
       "std       1174.546482\n",
       "min          0.000000\n",
       "25%       4252.000000\n",
       "50%       4820.000000\n",
       "75%       5559.000000\n",
       "max       7280.000000\n",
       "Name: traffic_volume, dtype: float64"
      ]
     },
     "execution_count": 20,
     "metadata": {},
     "output_type": "execute_result"
    }
   ],
   "source": [
    "daytime.traffic_volume.describe()"
   ]
  },
  {
   "cell_type": "code",
   "execution_count": 21,
   "metadata": {},
   "outputs": [
    {
     "data": {
      "text/plain": [
       "count    24327.000000\n",
       "mean      1785.377441\n",
       "std       1441.951197\n",
       "min          0.000000\n",
       "25%        530.000000\n",
       "50%       1287.000000\n",
       "75%       2819.000000\n",
       "max       6386.000000\n",
       "Name: traffic_volume, dtype: float64"
      ]
     },
     "execution_count": 21,
     "metadata": {},
     "output_type": "execute_result"
    }
   ],
   "source": [
    "nighttime.traffic_volume.describe()"
   ]
  },
  {
   "cell_type": "markdown",
   "metadata": {},
   "source": [
    "The histogram that shows the distribution of traffic volume durning the day is left skewed. This means that most of the traffic values are high - there are 4,252 or more cars passing the station each hour 75 % of the time ( because 25 % of values are less than 4,252)."
   ]
  },
  {
   "cell_type": "markdown",
   "metadata": {},
   "source": [
    "The histogram showing the nighttime data is right skewed. This means that most of the values are low - 75 % of the time the number of cars that passet the station each hour is less than 2,819"
   ]
  },
  {
   "cell_type": "markdown",
   "metadata": {},
   "source": [
    "Although there are still measurements of over 5,000 cars per hour, the traffic at night is generally light. Our goal is to find indicators of heavy traffic, so we'll only focus on the daytime data moving forward."
   ]
  },
  {
   "cell_type": "markdown",
   "metadata": {},
   "source": [
    "## Time indicators"
   ]
  },
  {
   "cell_type": "markdown",
   "metadata": {},
   "source": [
    "One of the possible indicators of heavy traffic is time. There might be more people on the road in a certain month, on a certain day, or at a certain time of day.\n",
    "\n",
    "We're going to look at a few line plots showing how the traffic volume changes according to the following:\n",
    "\n",
    "* Month\n",
    "\n",
    "* Day of the week\n",
    "\n",
    "* Time of day"
   ]
  },
  {
   "cell_type": "code",
   "execution_count": 25,
   "metadata": {},
   "outputs": [],
   "source": [
    "daytime[\"month\"] = daytime[\"date_time\"].dt.month"
   ]
  },
  {
   "cell_type": "code",
   "execution_count": 26,
   "metadata": {},
   "outputs": [
    {
     "data": {
      "text/html": [
       "<div>\n",
       "<style scoped>\n",
       "    .dataframe tbody tr th:only-of-type {\n",
       "        vertical-align: middle;\n",
       "    }\n",
       "\n",
       "    .dataframe tbody tr th {\n",
       "        vertical-align: top;\n",
       "    }\n",
       "\n",
       "    .dataframe thead th {\n",
       "        text-align: right;\n",
       "    }\n",
       "</style>\n",
       "<table border=\"1\" class=\"dataframe\">\n",
       "  <thead>\n",
       "    <tr style=\"text-align: right;\">\n",
       "      <th></th>\n",
       "      <th>holiday</th>\n",
       "      <th>temp</th>\n",
       "      <th>rain_1h</th>\n",
       "      <th>snow_1h</th>\n",
       "      <th>clouds_all</th>\n",
       "      <th>weather_main</th>\n",
       "      <th>weather_description</th>\n",
       "      <th>date_time</th>\n",
       "      <th>traffic_volume</th>\n",
       "      <th>month</th>\n",
       "    </tr>\n",
       "  </thead>\n",
       "  <tbody>\n",
       "    <tr>\n",
       "      <th>0</th>\n",
       "      <td>None</td>\n",
       "      <td>288.28</td>\n",
       "      <td>0.0</td>\n",
       "      <td>0.0</td>\n",
       "      <td>40</td>\n",
       "      <td>Clouds</td>\n",
       "      <td>scattered clouds</td>\n",
       "      <td>2012-10-02 09:00:00</td>\n",
       "      <td>5545</td>\n",
       "      <td>10</td>\n",
       "    </tr>\n",
       "    <tr>\n",
       "      <th>1</th>\n",
       "      <td>None</td>\n",
       "      <td>289.36</td>\n",
       "      <td>0.0</td>\n",
       "      <td>0.0</td>\n",
       "      <td>75</td>\n",
       "      <td>Clouds</td>\n",
       "      <td>broken clouds</td>\n",
       "      <td>2012-10-02 10:00:00</td>\n",
       "      <td>4516</td>\n",
       "      <td>10</td>\n",
       "    </tr>\n",
       "    <tr>\n",
       "      <th>2</th>\n",
       "      <td>None</td>\n",
       "      <td>289.58</td>\n",
       "      <td>0.0</td>\n",
       "      <td>0.0</td>\n",
       "      <td>90</td>\n",
       "      <td>Clouds</td>\n",
       "      <td>overcast clouds</td>\n",
       "      <td>2012-10-02 11:00:00</td>\n",
       "      <td>4767</td>\n",
       "      <td>10</td>\n",
       "    </tr>\n",
       "    <tr>\n",
       "      <th>3</th>\n",
       "      <td>None</td>\n",
       "      <td>290.13</td>\n",
       "      <td>0.0</td>\n",
       "      <td>0.0</td>\n",
       "      <td>90</td>\n",
       "      <td>Clouds</td>\n",
       "      <td>overcast clouds</td>\n",
       "      <td>2012-10-02 12:00:00</td>\n",
       "      <td>5026</td>\n",
       "      <td>10</td>\n",
       "    </tr>\n",
       "    <tr>\n",
       "      <th>4</th>\n",
       "      <td>None</td>\n",
       "      <td>291.14</td>\n",
       "      <td>0.0</td>\n",
       "      <td>0.0</td>\n",
       "      <td>75</td>\n",
       "      <td>Clouds</td>\n",
       "      <td>broken clouds</td>\n",
       "      <td>2012-10-02 13:00:00</td>\n",
       "      <td>4918</td>\n",
       "      <td>10</td>\n",
       "    </tr>\n",
       "  </tbody>\n",
       "</table>\n",
       "</div>"
      ],
      "text/plain": [
       "  holiday    temp  rain_1h  snow_1h  clouds_all weather_main  \\\n",
       "0    None  288.28      0.0      0.0          40       Clouds   \n",
       "1    None  289.36      0.0      0.0          75       Clouds   \n",
       "2    None  289.58      0.0      0.0          90       Clouds   \n",
       "3    None  290.13      0.0      0.0          90       Clouds   \n",
       "4    None  291.14      0.0      0.0          75       Clouds   \n",
       "\n",
       "  weather_description           date_time  traffic_volume  month  \n",
       "0    scattered clouds 2012-10-02 09:00:00            5545     10  \n",
       "1       broken clouds 2012-10-02 10:00:00            4516     10  \n",
       "2     overcast clouds 2012-10-02 11:00:00            4767     10  \n",
       "3     overcast clouds 2012-10-02 12:00:00            5026     10  \n",
       "4       broken clouds 2012-10-02 13:00:00            4918     10  "
      ]
     },
     "execution_count": 26,
     "metadata": {},
     "output_type": "execute_result"
    }
   ],
   "source": [
    "daytime.head()"
   ]
  },
  {
   "cell_type": "code",
   "execution_count": 31,
   "metadata": {},
   "outputs": [
    {
     "data": {
      "text/html": [
       "<div>\n",
       "<style scoped>\n",
       "    .dataframe tbody tr th:only-of-type {\n",
       "        vertical-align: middle;\n",
       "    }\n",
       "\n",
       "    .dataframe tbody tr th {\n",
       "        vertical-align: top;\n",
       "    }\n",
       "\n",
       "    .dataframe thead th {\n",
       "        text-align: right;\n",
       "    }\n",
       "</style>\n",
       "<table border=\"1\" class=\"dataframe\">\n",
       "  <thead>\n",
       "    <tr style=\"text-align: right;\">\n",
       "      <th></th>\n",
       "      <th>temp</th>\n",
       "      <th>rain_1h</th>\n",
       "      <th>snow_1h</th>\n",
       "      <th>clouds_all</th>\n",
       "      <th>traffic_volume</th>\n",
       "    </tr>\n",
       "    <tr>\n",
       "      <th>month</th>\n",
       "      <th></th>\n",
       "      <th></th>\n",
       "      <th></th>\n",
       "      <th></th>\n",
       "      <th></th>\n",
       "    </tr>\n",
       "  </thead>\n",
       "  <tbody>\n",
       "    <tr>\n",
       "      <th>1</th>\n",
       "      <td>265.483409</td>\n",
       "      <td>0.015080</td>\n",
       "      <td>0.000631</td>\n",
       "      <td>58.554108</td>\n",
       "      <td>4495.613727</td>\n",
       "    </tr>\n",
       "    <tr>\n",
       "      <th>2</th>\n",
       "      <td>266.663789</td>\n",
       "      <td>0.004019</td>\n",
       "      <td>0.000000</td>\n",
       "      <td>51.550459</td>\n",
       "      <td>4711.198394</td>\n",
       "    </tr>\n",
       "    <tr>\n",
       "      <th>3</th>\n",
       "      <td>273.619940</td>\n",
       "      <td>0.015839</td>\n",
       "      <td>0.000000</td>\n",
       "      <td>56.827811</td>\n",
       "      <td>4889.409560</td>\n",
       "    </tr>\n",
       "    <tr>\n",
       "      <th>4</th>\n",
       "      <td>279.661071</td>\n",
       "      <td>0.105343</td>\n",
       "      <td>0.000000</td>\n",
       "      <td>59.221525</td>\n",
       "      <td>4906.894305</td>\n",
       "    </tr>\n",
       "    <tr>\n",
       "      <th>5</th>\n",
       "      <td>289.282668</td>\n",
       "      <td>0.130863</td>\n",
       "      <td>0.000000</td>\n",
       "      <td>56.548825</td>\n",
       "      <td>4911.121609</td>\n",
       "    </tr>\n",
       "    <tr>\n",
       "      <th>6</th>\n",
       "      <td>294.576068</td>\n",
       "      <td>0.271121</td>\n",
       "      <td>0.000000</td>\n",
       "      <td>48.612374</td>\n",
       "      <td>4898.019566</td>\n",
       "    </tr>\n",
       "    <tr>\n",
       "      <th>7</th>\n",
       "      <td>296.785052</td>\n",
       "      <td>4.412258</td>\n",
       "      <td>0.000000</td>\n",
       "      <td>42.176619</td>\n",
       "      <td>4595.035744</td>\n",
       "    </tr>\n",
       "    <tr>\n",
       "      <th>8</th>\n",
       "      <td>295.119191</td>\n",
       "      <td>0.228113</td>\n",
       "      <td>0.000000</td>\n",
       "      <td>42.556892</td>\n",
       "      <td>4928.302035</td>\n",
       "    </tr>\n",
       "    <tr>\n",
       "      <th>9</th>\n",
       "      <td>292.520287</td>\n",
       "      <td>0.289807</td>\n",
       "      <td>0.000000</td>\n",
       "      <td>45.184112</td>\n",
       "      <td>4870.783145</td>\n",
       "    </tr>\n",
       "    <tr>\n",
       "      <th>10</th>\n",
       "      <td>284.081011</td>\n",
       "      <td>0.016065</td>\n",
       "      <td>0.000000</td>\n",
       "      <td>53.497990</td>\n",
       "      <td>4921.234922</td>\n",
       "    </tr>\n",
       "    <tr>\n",
       "      <th>11</th>\n",
       "      <td>276.698007</td>\n",
       "      <td>0.006200</td>\n",
       "      <td>0.000000</td>\n",
       "      <td>56.697187</td>\n",
       "      <td>4704.094319</td>\n",
       "    </tr>\n",
       "    <tr>\n",
       "      <th>12</th>\n",
       "      <td>267.727846</td>\n",
       "      <td>0.035365</td>\n",
       "      <td>0.002213</td>\n",
       "      <td>66.942237</td>\n",
       "      <td>4374.834566</td>\n",
       "    </tr>\n",
       "  </tbody>\n",
       "</table>\n",
       "</div>"
      ],
      "text/plain": [
       "             temp   rain_1h   snow_1h  clouds_all  traffic_volume\n",
       "month                                                            \n",
       "1      265.483409  0.015080  0.000631   58.554108     4495.613727\n",
       "2      266.663789  0.004019  0.000000   51.550459     4711.198394\n",
       "3      273.619940  0.015839  0.000000   56.827811     4889.409560\n",
       "4      279.661071  0.105343  0.000000   59.221525     4906.894305\n",
       "5      289.282668  0.130863  0.000000   56.548825     4911.121609\n",
       "6      294.576068  0.271121  0.000000   48.612374     4898.019566\n",
       "7      296.785052  4.412258  0.000000   42.176619     4595.035744\n",
       "8      295.119191  0.228113  0.000000   42.556892     4928.302035\n",
       "9      292.520287  0.289807  0.000000   45.184112     4870.783145\n",
       "10     284.081011  0.016065  0.000000   53.497990     4921.234922\n",
       "11     276.698007  0.006200  0.000000   56.697187     4704.094319\n",
       "12     267.727846  0.035365  0.002213   66.942237     4374.834566"
      ]
     },
     "execution_count": 31,
     "metadata": {},
     "output_type": "execute_result"
    }
   ],
   "source": [
    "by_month = daytime.groupby('month').mean()\n",
    "by_month"
   ]
  },
  {
   "cell_type": "code",
   "execution_count": 32,
   "metadata": {},
   "outputs": [
    {
     "data": {
      "text/plain": [
       "<AxesSubplot:xlabel='month'>"
      ]
     },
     "execution_count": 32,
     "metadata": {},
     "output_type": "execute_result"
    },
    {
     "data": {
      "image/png": "[encoded data removed]",
      "text/plain": [
       "<Figure size 432x288 with 1 Axes>"
      ]
     },
     "metadata": {
      "needs_background": "light"
     },
     "output_type": "display_data"
    }
   ],
   "source": [
    "by_month[\"traffic_volume\"].plot.line()"
   ]
  },
  {
   "cell_type": "markdown",
   "metadata": {},
   "source": [
    "The traffic looks less heavy during cold months (November–February) and more intense during warm months (March–October), with one interesting exception: July. Is there anything special about July? Is traffic significantly less heavy in July each year?\n",
    "\n",
    "To answer the last question, let's see how the traffic volume changed each year in July."
   ]
  },
  {
   "cell_type": "code",
   "execution_count": 34,
   "metadata": {},
   "outputs": [],
   "source": [
    "daytime[\"year\"] = daytime.date_time.dt.year\n",
    "daytime[\"year\"].unique()"
   ]
  },
  {
   "cell_type": "code",
   "execution_count": 49,
   "metadata": {},
   "outputs": [
    {
     "data": {
      "image/png": "[encoded data removed]",
      "text/plain": [
       "<Figure size 432x288 with 1 Axes>"
      ]
     },
     "metadata": {
      "needs_background": "light"
     },
     "output_type": "display_data"
    }
   ],
   "source": [
    "only_july = daytime.loc[daytime.month == 7]\n",
    "only_july.groupby(\"year\").mean().traffic_volume.plot.line()\n",
    "plt.show()"
   ]
  },
  {
   "cell_type": "markdown",
   "metadata": {},
   "source": [
    "Typically, the traffic is pretty heavy in July, similar to the other warm months. The only exception we see is 2016, which had a high decrease in traffic volume. One possible reason for this is road construction — [this article from 2016](https://www.crainsdetroit.com/article/20160728/NEWS/160729841/weekend-construction-i-96-us-23-bridge-work-i-94-lane-closures-i-696) supports this hypothesis.\n",
    "\n",
    "As a tentative conclusion here, we can say that warm months generally show heavier traffic compared to cold months. In a warm month, you can can expect for each hour of daytime a traffic volume close to 5,000 cars."
   ]
  },
  {
   "cell_type": "markdown",
   "metadata": {},
   "source": [
    "## Time indicators pt.2"
   ]
  },
  {
   "cell_type": "markdown",
   "metadata": {},
   "source": [
    "Let's inspect the more granular data: traffic in the days of the week:"
   ]
  },
  {
   "cell_type": "code",
   "execution_count": 52,
   "metadata": {},
   "outputs": [],
   "source": [
    "daytime[\"day\"] = daytime.date_time.dt.dayofweek"
   ]
  },
  {
   "cell_type": "code",
   "execution_count": 59,
   "metadata": {},
   "outputs": [
    {
     "data": {
      "text/plain": [
       "array([1, 2, 3, 4, 5, 6, 0], dtype=int64)"
      ]
     },
     "execution_count": 59,
     "metadata": {},
     "output_type": "execute_result"
    }
   ],
   "source": [
    "daytime[\"day\"].unique() #  Monday is 0 and Sunday is 6:"
   ]
  },
  {
   "cell_type": "code",
   "execution_count": 56,
   "metadata": {},
   "outputs": [],
   "source": [
    "groupby_day_of_week = daytime.groupby(\"day\").mean()"
   ]
  },
  {
   "cell_type": "code",
   "execution_count": 58,
   "metadata": {},
   "outputs": [
    {
     "data": {
      "text/plain": [
       "<AxesSubplot:xlabel='day'>"
      ]
     },
     "execution_count": 58,
     "metadata": {},
     "output_type": "execute_result"
    },
    {
     "data": {
      "image/png": "[encoded data removed]",
      "text/plain": [
       "<Figure size 432x288 with 1 Axes>"
      ]
     },
     "metadata": {
      "needs_background": "light"
     },
     "output_type": "display_data"
    }
   ],
   "source": [
    "groupby_day_of_week[\"traffic_volume\"].plot.line()"
   ]
  },
  {
   "cell_type": "markdown",
   "metadata": {},
   "source": [
    "We can see that in business days the traffic volume is bigger than on weekends, cause might be that most people that use this road go to work or coming back from work, so they re using it in business days, not on weekends"
   ]
  },
  {
   "cell_type": "markdown",
   "metadata": {},
   "source": [
    "## Time indicators pt.3"
   ]
  },
  {
   "cell_type": "markdown",
   "metadata": {},
   "source": [
    "Now we re gonna inspect traffic volume in the particular hour of the day, but at first we re gonna split it in two separate data sets:\n",
    "\n",
    "\n",
    "* business day\n",
    "\n",
    "* weekend\n"
   ]
  },
  {
   "cell_type": "code",
   "execution_count": 85,
   "metadata": {},
   "outputs": [],
   "source": [
    "business_days = [0,1,2,3,4] #  this is Monday to Friday\n",
    "weekenddays = [5,6]\n",
    "\n",
    "business_day = daytime.loc[daytime.day.isin(business_days)].copy()\n",
    "\n",
    "weekends = daytime.loc[daytime.day.isin(weekenddays)].copy()"
   ]
  },
  {
   "cell_type": "code",
   "execution_count": 86,
   "metadata": {},
   "outputs": [
    {
     "name": "stdout",
     "output_type": "stream",
     "text": [
      "[1 2 3 4 0]\n",
      "\n",
      "[5 6]\n"
     ]
    }
   ],
   "source": [
    "print(business_day.day.unique())\n",
    "print()\n",
    "print(weekends.day.unique())"
   ]
  },
  {
   "cell_type": "code",
   "execution_count": 87,
   "metadata": {},
   "outputs": [
    {
     "data": {
      "text/html": [
       "<div>\n",
       "<style scoped>\n",
       "    .dataframe tbody tr th:only-of-type {\n",
       "        vertical-align: middle;\n",
       "    }\n",
       "\n",
       "    .dataframe tbody tr th {\n",
       "        vertical-align: top;\n",
       "    }\n",
       "\n",
       "    .dataframe thead th {\n",
       "        text-align: right;\n",
       "    }\n",
       "</style>\n",
       "<table border=\"1\" class=\"dataframe\">\n",
       "  <thead>\n",
       "    <tr style=\"text-align: right;\">\n",
       "      <th></th>\n",
       "      <th>holiday</th>\n",
       "      <th>temp</th>\n",
       "      <th>rain_1h</th>\n",
       "      <th>snow_1h</th>\n",
       "      <th>clouds_all</th>\n",
       "      <th>weather_main</th>\n",
       "      <th>weather_description</th>\n",
       "      <th>date_time</th>\n",
       "      <th>traffic_volume</th>\n",
       "      <th>month</th>\n",
       "      <th>year</th>\n",
       "      <th>day</th>\n",
       "    </tr>\n",
       "  </thead>\n",
       "  <tbody>\n",
       "    <tr>\n",
       "      <th>0</th>\n",
       "      <td>None</td>\n",
       "      <td>288.28</td>\n",
       "      <td>0.0</td>\n",
       "      <td>0.0</td>\n",
       "      <td>40</td>\n",
       "      <td>Clouds</td>\n",
       "      <td>scattered clouds</td>\n",
       "      <td>2012-10-02 09:00:00</td>\n",
       "      <td>5545</td>\n",
       "      <td>10</td>\n",
       "      <td>2012</td>\n",
       "      <td>1</td>\n",
       "    </tr>\n",
       "    <tr>\n",
       "      <th>1</th>\n",
       "      <td>None</td>\n",
       "      <td>289.36</td>\n",
       "      <td>0.0</td>\n",
       "      <td>0.0</td>\n",
       "      <td>75</td>\n",
       "      <td>Clouds</td>\n",
       "      <td>broken clouds</td>\n",
       "      <td>2012-10-02 10:00:00</td>\n",
       "      <td>4516</td>\n",
       "      <td>10</td>\n",
       "      <td>2012</td>\n",
       "      <td>1</td>\n",
       "    </tr>\n",
       "    <tr>\n",
       "      <th>2</th>\n",
       "      <td>None</td>\n",
       "      <td>289.58</td>\n",
       "      <td>0.0</td>\n",
       "      <td>0.0</td>\n",
       "      <td>90</td>\n",
       "      <td>Clouds</td>\n",
       "      <td>overcast clouds</td>\n",
       "      <td>2012-10-02 11:00:00</td>\n",
       "      <td>4767</td>\n",
       "      <td>10</td>\n",
       "      <td>2012</td>\n",
       "      <td>1</td>\n",
       "    </tr>\n",
       "    <tr>\n",
       "      <th>3</th>\n",
       "      <td>None</td>\n",
       "      <td>290.13</td>\n",
       "      <td>0.0</td>\n",
       "      <td>0.0</td>\n",
       "      <td>90</td>\n",
       "      <td>Clouds</td>\n",
       "      <td>overcast clouds</td>\n",
       "      <td>2012-10-02 12:00:00</td>\n",
       "      <td>5026</td>\n",
       "      <td>10</td>\n",
       "      <td>2012</td>\n",
       "      <td>1</td>\n",
       "    </tr>\n",
       "    <tr>\n",
       "      <th>4</th>\n",
       "      <td>None</td>\n",
       "      <td>291.14</td>\n",
       "      <td>0.0</td>\n",
       "      <td>0.0</td>\n",
       "      <td>75</td>\n",
       "      <td>Clouds</td>\n",
       "      <td>broken clouds</td>\n",
       "      <td>2012-10-02 13:00:00</td>\n",
       "      <td>4918</td>\n",
       "      <td>10</td>\n",
       "      <td>2012</td>\n",
       "      <td>1</td>\n",
       "    </tr>\n",
       "  </tbody>\n",
       "</table>\n",
       "</div>"
      ],
      "text/plain": [
       "  holiday    temp  rain_1h  snow_1h  clouds_all weather_main  \\\n",
       "0    None  288.28      0.0      0.0          40       Clouds   \n",
       "1    None  289.36      0.0      0.0          75       Clouds   \n",
       "2    None  289.58      0.0      0.0          90       Clouds   \n",
       "3    None  290.13      0.0      0.0          90       Clouds   \n",
       "4    None  291.14      0.0      0.0          75       Clouds   \n",
       "\n",
       "  weather_description           date_time  traffic_volume  month  year  day  \n",
       "0    scattered clouds 2012-10-02 09:00:00            5545     10  2012    1  \n",
       "1       broken clouds 2012-10-02 10:00:00            4516     10  2012    1  \n",
       "2     overcast clouds 2012-10-02 11:00:00            4767     10  2012    1  \n",
       "3     overcast clouds 2012-10-02 12:00:00            5026     10  2012    1  \n",
       "4       broken clouds 2012-10-02 13:00:00            4918     10  2012    1  "
      ]
     },
     "execution_count": 87,
     "metadata": {},
     "output_type": "execute_result"
    }
   ],
   "source": [
    "business_day.head()"
   ]
  },
  {
   "cell_type": "code",
   "execution_count": 88,
   "metadata": {},
   "outputs": [
    {
     "data": {
      "text/html": [
       "<div>\n",
       "<style scoped>\n",
       "    .dataframe tbody tr th:only-of-type {\n",
       "        vertical-align: middle;\n",
       "    }\n",
       "\n",
       "    .dataframe tbody tr th {\n",
       "        vertical-align: top;\n",
       "    }\n",
       "\n",
       "    .dataframe thead th {\n",
       "        text-align: right;\n",
       "    }\n",
       "</style>\n",
       "<table border=\"1\" class=\"dataframe\">\n",
       "  <thead>\n",
       "    <tr style=\"text-align: right;\">\n",
       "      <th></th>\n",
       "      <th>holiday</th>\n",
       "      <th>temp</th>\n",
       "      <th>rain_1h</th>\n",
       "      <th>snow_1h</th>\n",
       "      <th>clouds_all</th>\n",
       "      <th>weather_main</th>\n",
       "      <th>weather_description</th>\n",
       "      <th>date_time</th>\n",
       "      <th>traffic_volume</th>\n",
       "      <th>month</th>\n",
       "      <th>year</th>\n",
       "      <th>day</th>\n",
       "    </tr>\n",
       "  </thead>\n",
       "  <tbody>\n",
       "    <tr>\n",
       "      <th>87</th>\n",
       "      <td>None</td>\n",
       "      <td>275.17</td>\n",
       "      <td>0.0</td>\n",
       "      <td>0.0</td>\n",
       "      <td>1</td>\n",
       "      <td>Clear</td>\n",
       "      <td>sky is clear</td>\n",
       "      <td>2012-10-06 07:00:00</td>\n",
       "      <td>2072</td>\n",
       "      <td>10</td>\n",
       "      <td>2012</td>\n",
       "      <td>5</td>\n",
       "    </tr>\n",
       "    <tr>\n",
       "      <th>88</th>\n",
       "      <td>None</td>\n",
       "      <td>274.99</td>\n",
       "      <td>0.0</td>\n",
       "      <td>0.0</td>\n",
       "      <td>1</td>\n",
       "      <td>Clear</td>\n",
       "      <td>sky is clear</td>\n",
       "      <td>2012-10-06 08:00:00</td>\n",
       "      <td>3342</td>\n",
       "      <td>10</td>\n",
       "      <td>2012</td>\n",
       "      <td>5</td>\n",
       "    </tr>\n",
       "    <tr>\n",
       "      <th>89</th>\n",
       "      <td>None</td>\n",
       "      <td>275.09</td>\n",
       "      <td>0.0</td>\n",
       "      <td>0.0</td>\n",
       "      <td>40</td>\n",
       "      <td>Clouds</td>\n",
       "      <td>scattered clouds</td>\n",
       "      <td>2012-10-06 09:00:00</td>\n",
       "      <td>4258</td>\n",
       "      <td>10</td>\n",
       "      <td>2012</td>\n",
       "      <td>5</td>\n",
       "    </tr>\n",
       "    <tr>\n",
       "      <th>90</th>\n",
       "      <td>None</td>\n",
       "      <td>276.88</td>\n",
       "      <td>0.0</td>\n",
       "      <td>0.0</td>\n",
       "      <td>20</td>\n",
       "      <td>Clouds</td>\n",
       "      <td>few clouds</td>\n",
       "      <td>2012-10-06 10:00:00</td>\n",
       "      <td>4861</td>\n",
       "      <td>10</td>\n",
       "      <td>2012</td>\n",
       "      <td>5</td>\n",
       "    </tr>\n",
       "    <tr>\n",
       "      <th>91</th>\n",
       "      <td>None</td>\n",
       "      <td>278.04</td>\n",
       "      <td>0.0</td>\n",
       "      <td>0.0</td>\n",
       "      <td>20</td>\n",
       "      <td>Clouds</td>\n",
       "      <td>few clouds</td>\n",
       "      <td>2012-10-06 11:00:00</td>\n",
       "      <td>5191</td>\n",
       "      <td>10</td>\n",
       "      <td>2012</td>\n",
       "      <td>5</td>\n",
       "    </tr>\n",
       "  </tbody>\n",
       "</table>\n",
       "</div>"
      ],
      "text/plain": [
       "   holiday    temp  rain_1h  snow_1h  clouds_all weather_main  \\\n",
       "87    None  275.17      0.0      0.0           1        Clear   \n",
       "88    None  274.99      0.0      0.0           1        Clear   \n",
       "89    None  275.09      0.0      0.0          40       Clouds   \n",
       "90    None  276.88      0.0      0.0          20       Clouds   \n",
       "91    None  278.04      0.0      0.0          20       Clouds   \n",
       "\n",
       "   weather_description           date_time  traffic_volume  month  year  day  \n",
       "87        sky is clear 2012-10-06 07:00:00            2072     10  2012    5  \n",
       "88        sky is clear 2012-10-06 08:00:00            3342     10  2012    5  \n",
       "89    scattered clouds 2012-10-06 09:00:00            4258     10  2012    5  \n",
       "90          few clouds 2012-10-06 10:00:00            4861     10  2012    5  \n",
       "91          few clouds 2012-10-06 11:00:00            5191     10  2012    5  "
      ]
     },
     "execution_count": 88,
     "metadata": {},
     "output_type": "execute_result"
    }
   ],
   "source": [
    "weekends.head()"
   ]
  },
  {
   "cell_type": "code",
   "execution_count": 89,
   "metadata": {},
   "outputs": [],
   "source": [
    "business_day[\"hour\"] = daytime.date_time.dt.hour\n",
    "weekends[\"hour\"] = daytime.date_time.dt.hour"
   ]
  },
  {
   "cell_type": "markdown",
   "metadata": {},
   "source": [
    "Now we re gonna use groupby method it and finally plot it:"
   ]
  },
  {
   "cell_type": "code",
   "execution_count": 108,
   "metadata": {},
   "outputs": [
    {
     "data": {
      "image/png": "[encoded data removed]",
      "text/plain": [
       "<Figure size 792x252 with 2 Axes>"
      ]
     },
     "metadata": {
      "needs_background": "light"
     },
     "output_type": "display_data"
    }
   ],
   "source": [
    "plt.figure(figsize=(11,3.5))\n",
    "\n",
    "plt.subplot(1,2,1)\n",
    "business_day.groupby(\"hour\").mean().traffic_volume.plot.line()\n",
    "plt.title(\"Traffic Volume By Hour: Monday - Friday\")\n",
    "plt.ylim(1500,6500)\n",
    "plt.xlim(6,20)\n",
    "\n",
    "\n",
    "plt.subplot(1,2,2)\n",
    "weekends.groupby(\"hour\").mean().traffic_volume.plot.line()\n",
    "plt.title(\"Traffic Volume By Hour: Saturday - Sunday\")\n",
    "plt.ylim(1500,6500)\n",
    "plt.xlim(6,20)\n",
    "\n",
    "plt.show()"
   ]
  },
  {
   "cell_type": "markdown",
   "metadata": {},
   "source": [
    "At each hour of the day traffic is generally higher on the business days rather than on weekends,\n",
    "the rush hours are around 7 and 16 then it starts to decrease, there's the hours when people go to work and back. We see volumes of over 6,000 cars at rush hours.\n",
    "\n",
    "Summarize:\n",
    "\n",
    "* Traffic is heavier during warm months (March-October) comparet to cold months (November - Febuary)\n",
    "\n",
    "* The traffic is usually heavier on business days compared to the weekends.\n",
    "\n",
    "* On business days, the rush hours are around 7 and 16."
   ]
  },
  {
   "cell_type": "markdown",
   "metadata": {},
   "source": [
    "## Weather indicators"
   ]
  },
  {
   "cell_type": "markdown",
   "metadata": {},
   "source": [
    "Another possible indicator of heavy traffic is weather. The dataset provides us with a few useful columns about weather: \n",
    "*temp, rain_1h, snow_1h, clouds_all, weather_main, weather_description.*"
   ]
  },
  {
   "cell_type": "markdown",
   "metadata": {},
   "source": [
    "We re gonna inspect the correlation in traffic volume and this particular columns"
   ]
  },
  {
   "cell_type": "code",
   "execution_count": 109,
   "metadata": {},
   "outputs": [
    {
     "data": {
      "text/plain": [
       "temp              0.128317\n",
       "rain_1h           0.003697\n",
       "snow_1h           0.001265\n",
       "clouds_all       -0.032932\n",
       "traffic_volume    1.000000\n",
       "month            -0.022337\n",
       "year             -0.003557\n",
       "day              -0.416453\n",
       "Name: traffic_volume, dtype: float64"
      ]
     },
     "execution_count": 109,
     "metadata": {},
     "output_type": "execute_result"
    }
   ],
   "source": [
    "daytime.corr().traffic_volume"
   ]
  },
  {
   "cell_type": "markdown",
   "metadata": {},
   "source": [
    "We can see weak positive corellation in the temp column"
   ]
  },
  {
   "cell_type": "markdown",
   "metadata": {},
   "source": [
    "Let's create the scatter plot to see the correlation"
   ]
  },
  {
   "cell_type": "code",
   "execution_count": 112,
   "metadata": {},
   "outputs": [
    {
     "data": {
      "image/png": "[encoded data removed]",
      "text/plain": [
       "<Figure size 432x288 with 1 Axes>"
      ]
     },
     "metadata": {
      "needs_background": "light"
     },
     "output_type": "display_data"
    }
   ],
   "source": [
    "daytime.plot.scatter(\"traffic_volume\", \"temp\")\n",
    "plt.ylim(230,320)\n",
    "plt.show()"
   ]
  },
  {
   "cell_type": "markdown",
   "metadata": {},
   "source": [
    "We can conclude that the temperature doesn't look like a solid indicator of heavy traffic"
   ]
  },
  {
   "cell_type": "markdown",
   "metadata": {},
   "source": [
    "Let's now examine another weather columns: *weather_main* and *weather_description*"
   ]
  },
  {
   "cell_type": "markdown",
   "metadata": {},
   "source": [
    "## Weather types"
   ]
  },
  {
   "cell_type": "markdown",
   "metadata": {},
   "source": [
    "we examined the correlation between traffic_volume and the numerical weather columns. However, we didn't find any reliable indicator of heavy traffic.\n",
    "\n",
    "To see if we can find more useful data, we'll look next at the categorical weather-related columns: *weather_main* and *weather_description.*"
   ]
  },
  {
   "cell_type": "code",
   "execution_count": 120,
   "metadata": {},
   "outputs": [
    {
     "name": "stdout",
     "output_type": "stream",
     "text": [
      "['scattered clouds' 'broken clouds' 'overcast clouds' 'sky is clear'\n",
      " 'few clouds' 'light rain' 'light intensity drizzle' 'mist' 'haze'\n",
      " 'proximity shower rain' 'moderate rain' 'drizzle' 'heavy intensity rain'\n",
      " 'fog' 'proximity thunderstorm' 'heavy snow' 'snow' 'freezing rain'\n",
      " 'shower snow' 'light rain and snow' 'light intensity shower rain'\n",
      " 'thunderstorm with heavy rain' 'thunderstorm with rain'\n",
      " 'thunderstorm with light rain' 'proximity thunderstorm with rain'\n",
      " 'heavy intensity drizzle' 'Sky is Clear' 'very heavy rain'\n",
      " 'proximity thunderstorm with drizzle' 'light snow'\n",
      " 'thunderstorm with drizzle' 'thunderstorm' 'smoke' 'SQUALLS'\n",
      " 'light shower snow' 'sleet' 'thunderstorm with light drizzle'\n",
      " 'shower drizzle']\n",
      "\n",
      "['Clouds' 'Clear' 'Rain' 'Drizzle' 'Mist' 'Haze' 'Fog' 'Thunderstorm'\n",
      " 'Snow' 'Smoke' 'Squall']\n"
     ]
    }
   ],
   "source": [
    "print(daytime.weather_description.unique())\n",
    "print()\n",
    "print(daytime.weather_main.unique())"
   ]
  },
  {
   "cell_type": "markdown",
   "metadata": {},
   "source": [
    "using the groupby column we re gonna to calculate the average traffic volume associated with each unique value in these two columns:"
   ]
  },
  {
   "cell_type": "code",
   "execution_count": 121,
   "metadata": {},
   "outputs": [],
   "source": [
    "groupby_weather_desc = daytime.groupby(\"weather_description\").mean()\n",
    "groupby_weather_main = daytime.groupby(\"weather_main\").mean()"
   ]
  },
  {
   "cell_type": "code",
   "execution_count": 122,
   "metadata": {},
   "outputs": [
    {
     "data": {
      "text/html": [
       "<div>\n",
       "<style scoped>\n",
       "    .dataframe tbody tr th:only-of-type {\n",
       "        vertical-align: middle;\n",
       "    }\n",
       "\n",
       "    .dataframe tbody tr th {\n",
       "        vertical-align: top;\n",
       "    }\n",
       "\n",
       "    .dataframe thead th {\n",
       "        text-align: right;\n",
       "    }\n",
       "</style>\n",
       "<table border=\"1\" class=\"dataframe\">\n",
       "  <thead>\n",
       "    <tr style=\"text-align: right;\">\n",
       "      <th></th>\n",
       "      <th>temp</th>\n",
       "      <th>rain_1h</th>\n",
       "      <th>snow_1h</th>\n",
       "      <th>clouds_all</th>\n",
       "      <th>traffic_volume</th>\n",
       "      <th>month</th>\n",
       "      <th>year</th>\n",
       "      <th>day</th>\n",
       "    </tr>\n",
       "    <tr>\n",
       "      <th>weather_description</th>\n",
       "      <th></th>\n",
       "      <th></th>\n",
       "      <th></th>\n",
       "      <th></th>\n",
       "      <th></th>\n",
       "      <th></th>\n",
       "      <th></th>\n",
       "      <th></th>\n",
       "    </tr>\n",
       "  </thead>\n",
       "  <tbody>\n",
       "    <tr>\n",
       "      <th>SQUALLS</th>\n",
       "      <td>296.730000</td>\n",
       "      <td>1.020000</td>\n",
       "      <td>0.000000</td>\n",
       "      <td>75.000000</td>\n",
       "      <td>4211.000000</td>\n",
       "      <td>7.000000</td>\n",
       "      <td>2016.000000</td>\n",
       "      <td>2.000000</td>\n",
       "    </tr>\n",
       "    <tr>\n",
       "      <th>Sky is Clear</th>\n",
       "      <td>293.232549</td>\n",
       "      <td>0.000000</td>\n",
       "      <td>0.000000</td>\n",
       "      <td>0.000000</td>\n",
       "      <td>4919.009390</td>\n",
       "      <td>7.557512</td>\n",
       "      <td>2014.723005</td>\n",
       "      <td>2.895540</td>\n",
       "    </tr>\n",
       "    <tr>\n",
       "      <th>broken clouds</th>\n",
       "      <td>282.372927</td>\n",
       "      <td>0.000000</td>\n",
       "      <td>0.000000</td>\n",
       "      <td>72.635875</td>\n",
       "      <td>4824.130326</td>\n",
       "      <td>6.675260</td>\n",
       "      <td>2015.266380</td>\n",
       "      <td>2.998210</td>\n",
       "    </tr>\n",
       "    <tr>\n",
       "      <th>drizzle</th>\n",
       "      <td>283.573777</td>\n",
       "      <td>0.145072</td>\n",
       "      <td>0.000000</td>\n",
       "      <td>88.589928</td>\n",
       "      <td>4737.330935</td>\n",
       "      <td>7.244604</td>\n",
       "      <td>2015.762590</td>\n",
       "      <td>3.028777</td>\n",
       "    </tr>\n",
       "    <tr>\n",
       "      <th>few clouds</th>\n",
       "      <td>284.272965</td>\n",
       "      <td>0.000000</td>\n",
       "      <td>0.000000</td>\n",
       "      <td>19.391951</td>\n",
       "      <td>4839.818023</td>\n",
       "      <td>6.159230</td>\n",
       "      <td>2015.139983</td>\n",
       "      <td>2.977253</td>\n",
       "    </tr>\n",
       "    <tr>\n",
       "      <th>fog</th>\n",
       "      <td>277.579641</td>\n",
       "      <td>0.163840</td>\n",
       "      <td>0.001409</td>\n",
       "      <td>65.477901</td>\n",
       "      <td>4372.491713</td>\n",
       "      <td>6.646409</td>\n",
       "      <td>2015.814917</td>\n",
       "      <td>2.798343</td>\n",
       "    </tr>\n",
       "    <tr>\n",
       "      <th>freezing rain</th>\n",
       "      <td>272.860000</td>\n",
       "      <td>0.000000</td>\n",
       "      <td>0.000000</td>\n",
       "      <td>90.000000</td>\n",
       "      <td>4314.000000</td>\n",
       "      <td>6.500000</td>\n",
       "      <td>2014.500000</td>\n",
       "      <td>0.500000</td>\n",
       "    </tr>\n",
       "    <tr>\n",
       "      <th>haze</th>\n",
       "      <td>275.319353</td>\n",
       "      <td>0.040036</td>\n",
       "      <td>0.000000</td>\n",
       "      <td>64.000000</td>\n",
       "      <td>4609.893285</td>\n",
       "      <td>5.832134</td>\n",
       "      <td>2015.557554</td>\n",
       "      <td>2.754197</td>\n",
       "    </tr>\n",
       "    <tr>\n",
       "      <th>heavy intensity drizzle</th>\n",
       "      <td>285.467931</td>\n",
       "      <td>0.276207</td>\n",
       "      <td>0.000000</td>\n",
       "      <td>89.172414</td>\n",
       "      <td>4738.586207</td>\n",
       "      <td>7.551724</td>\n",
       "      <td>2015.793103</td>\n",
       "      <td>2.896552</td>\n",
       "    </tr>\n",
       "    <tr>\n",
       "      <th>heavy intensity rain</th>\n",
       "      <td>290.231781</td>\n",
       "      <td>2.670548</td>\n",
       "      <td>0.000000</td>\n",
       "      <td>82.799087</td>\n",
       "      <td>4610.356164</td>\n",
       "      <td>7.150685</td>\n",
       "      <td>2015.876712</td>\n",
       "      <td>2.858447</td>\n",
       "    </tr>\n",
       "    <tr>\n",
       "      <th>heavy snow</th>\n",
       "      <td>269.256188</td>\n",
       "      <td>0.002375</td>\n",
       "      <td>0.000000</td>\n",
       "      <td>85.287500</td>\n",
       "      <td>4411.681250</td>\n",
       "      <td>5.140625</td>\n",
       "      <td>2013.190625</td>\n",
       "      <td>2.975000</td>\n",
       "    </tr>\n",
       "    <tr>\n",
       "      <th>light intensity drizzle</th>\n",
       "      <td>284.902199</td>\n",
       "      <td>0.178848</td>\n",
       "      <td>0.000000</td>\n",
       "      <td>82.565445</td>\n",
       "      <td>4890.164049</td>\n",
       "      <td>7.020942</td>\n",
       "      <td>2015.935428</td>\n",
       "      <td>2.897033</td>\n",
       "    </tr>\n",
       "    <tr>\n",
       "      <th>light intensity shower rain</th>\n",
       "      <td>290.563000</td>\n",
       "      <td>0.433000</td>\n",
       "      <td>0.000000</td>\n",
       "      <td>88.500000</td>\n",
       "      <td>4558.100000</td>\n",
       "      <td>5.700000</td>\n",
       "      <td>2015.600000</td>\n",
       "      <td>3.200000</td>\n",
       "    </tr>\n",
       "    <tr>\n",
       "      <th>light rain</th>\n",
       "      <td>286.349835</td>\n",
       "      <td>0.137147</td>\n",
       "      <td>0.000000</td>\n",
       "      <td>72.672525</td>\n",
       "      <td>4859.650849</td>\n",
       "      <td>6.610428</td>\n",
       "      <td>2015.330990</td>\n",
       "      <td>2.928530</td>\n",
       "    </tr>\n",
       "    <tr>\n",
       "      <th>light rain and snow</th>\n",
       "      <td>275.607500</td>\n",
       "      <td>0.317500</td>\n",
       "      <td>0.000000</td>\n",
       "      <td>83.500000</td>\n",
       "      <td>5579.750000</td>\n",
       "      <td>7.500000</td>\n",
       "      <td>2013.500000</td>\n",
       "      <td>1.250000</td>\n",
       "    </tr>\n",
       "    <tr>\n",
       "      <th>light shower snow</th>\n",
       "      <td>268.213636</td>\n",
       "      <td>0.000000</td>\n",
       "      <td>0.000000</td>\n",
       "      <td>81.909091</td>\n",
       "      <td>4618.636364</td>\n",
       "      <td>9.545455</td>\n",
       "      <td>2016.909091</td>\n",
       "      <td>1.181818</td>\n",
       "    </tr>\n",
       "    <tr>\n",
       "      <th>light snow</th>\n",
       "      <td>267.085634</td>\n",
       "      <td>0.015297</td>\n",
       "      <td>0.002106</td>\n",
       "      <td>77.714724</td>\n",
       "      <td>4430.858896</td>\n",
       "      <td>6.734151</td>\n",
       "      <td>2016.199387</td>\n",
       "      <td>2.724949</td>\n",
       "    </tr>\n",
       "    <tr>\n",
       "      <th>mist</th>\n",
       "      <td>279.420825</td>\n",
       "      <td>0.249992</td>\n",
       "      <td>0.000825</td>\n",
       "      <td>74.961435</td>\n",
       "      <td>4623.976475</td>\n",
       "      <td>6.734285</td>\n",
       "      <td>2015.527574</td>\n",
       "      <td>2.895102</td>\n",
       "    </tr>\n",
       "    <tr>\n",
       "      <th>moderate rain</th>\n",
       "      <td>287.110124</td>\n",
       "      <td>0.572153</td>\n",
       "      <td>0.001057</td>\n",
       "      <td>80.591083</td>\n",
       "      <td>4769.643312</td>\n",
       "      <td>7.008917</td>\n",
       "      <td>2015.821656</td>\n",
       "      <td>2.917197</td>\n",
       "    </tr>\n",
       "    <tr>\n",
       "      <th>overcast clouds</th>\n",
       "      <td>278.802215</td>\n",
       "      <td>0.000000</td>\n",
       "      <td>0.000000</td>\n",
       "      <td>90.120696</td>\n",
       "      <td>4861.124952</td>\n",
       "      <td>6.078143</td>\n",
       "      <td>2015.199226</td>\n",
       "      <td>3.042553</td>\n",
       "    </tr>\n",
       "    <tr>\n",
       "      <th>proximity shower rain</th>\n",
       "      <td>291.460090</td>\n",
       "      <td>0.279279</td>\n",
       "      <td>0.000000</td>\n",
       "      <td>78.108108</td>\n",
       "      <td>4901.756757</td>\n",
       "      <td>6.972973</td>\n",
       "      <td>2016.990991</td>\n",
       "      <td>2.891892</td>\n",
       "    </tr>\n",
       "    <tr>\n",
       "      <th>proximity thunderstorm</th>\n",
       "      <td>293.552376</td>\n",
       "      <td>0.967756</td>\n",
       "      <td>0.000000</td>\n",
       "      <td>73.511551</td>\n",
       "      <td>4684.356436</td>\n",
       "      <td>7.118812</td>\n",
       "      <td>2016.359736</td>\n",
       "      <td>2.894389</td>\n",
       "    </tr>\n",
       "    <tr>\n",
       "      <th>proximity thunderstorm with drizzle</th>\n",
       "      <td>287.913333</td>\n",
       "      <td>0.260000</td>\n",
       "      <td>0.000000</td>\n",
       "      <td>87.833333</td>\n",
       "      <td>5121.833333</td>\n",
       "      <td>8.500000</td>\n",
       "      <td>2015.333333</td>\n",
       "      <td>2.500000</td>\n",
       "    </tr>\n",
       "    <tr>\n",
       "      <th>proximity thunderstorm with rain</th>\n",
       "      <td>291.210556</td>\n",
       "      <td>0.867222</td>\n",
       "      <td>0.000000</td>\n",
       "      <td>82.666667</td>\n",
       "      <td>4501.611111</td>\n",
       "      <td>6.944444</td>\n",
       "      <td>2016.833333</td>\n",
       "      <td>3.222222</td>\n",
       "    </tr>\n",
       "    <tr>\n",
       "      <th>scattered clouds</th>\n",
       "      <td>287.829086</td>\n",
       "      <td>0.000000</td>\n",
       "      <td>0.000000</td>\n",
       "      <td>40.043099</td>\n",
       "      <td>4936.787712</td>\n",
       "      <td>6.528198</td>\n",
       "      <td>2015.631820</td>\n",
       "      <td>2.986245</td>\n",
       "    </tr>\n",
       "    <tr>\n",
       "      <th>shower drizzle</th>\n",
       "      <td>271.330000</td>\n",
       "      <td>0.000000</td>\n",
       "      <td>0.000000</td>\n",
       "      <td>90.000000</td>\n",
       "      <td>4932.666667</td>\n",
       "      <td>6.000000</td>\n",
       "      <td>2017.666667</td>\n",
       "      <td>1.666667</td>\n",
       "    </tr>\n",
       "    <tr>\n",
       "      <th>shower snow</th>\n",
       "      <td>268.680000</td>\n",
       "      <td>0.000000</td>\n",
       "      <td>0.000000</td>\n",
       "      <td>90.000000</td>\n",
       "      <td>5664.000000</td>\n",
       "      <td>3.000000</td>\n",
       "      <td>2013.000000</td>\n",
       "      <td>4.000000</td>\n",
       "    </tr>\n",
       "    <tr>\n",
       "      <th>sky is clear</th>\n",
       "      <td>282.171390</td>\n",
       "      <td>0.000000</td>\n",
       "      <td>0.000000</td>\n",
       "      <td>1.961161</td>\n",
       "      <td>4753.930294</td>\n",
       "      <td>6.304783</td>\n",
       "      <td>2015.775552</td>\n",
       "      <td>3.181316</td>\n",
       "    </tr>\n",
       "    <tr>\n",
       "      <th>sleet</th>\n",
       "      <td>275.746667</td>\n",
       "      <td>0.000000</td>\n",
       "      <td>0.000000</td>\n",
       "      <td>90.000000</td>\n",
       "      <td>4312.666667</td>\n",
       "      <td>7.000000</td>\n",
       "      <td>2017.000000</td>\n",
       "      <td>3.333333</td>\n",
       "    </tr>\n",
       "    <tr>\n",
       "      <th>smoke</th>\n",
       "      <td>292.405833</td>\n",
       "      <td>0.878333</td>\n",
       "      <td>0.000000</td>\n",
       "      <td>53.333333</td>\n",
       "      <td>4564.583333</td>\n",
       "      <td>6.833333</td>\n",
       "      <td>2015.916667</td>\n",
       "      <td>2.416667</td>\n",
       "    </tr>\n",
       "    <tr>\n",
       "      <th>snow</th>\n",
       "      <td>271.014891</td>\n",
       "      <td>0.024745</td>\n",
       "      <td>0.003723</td>\n",
       "      <td>88.737226</td>\n",
       "      <td>4054.065693</td>\n",
       "      <td>6.416058</td>\n",
       "      <td>2015.686131</td>\n",
       "      <td>2.554745</td>\n",
       "    </tr>\n",
       "    <tr>\n",
       "      <th>thunderstorm</th>\n",
       "      <td>295.168542</td>\n",
       "      <td>0.702083</td>\n",
       "      <td>0.000000</td>\n",
       "      <td>71.437500</td>\n",
       "      <td>4724.708333</td>\n",
       "      <td>7.166667</td>\n",
       "      <td>2016.708333</td>\n",
       "      <td>3.041667</td>\n",
       "    </tr>\n",
       "    <tr>\n",
       "      <th>thunderstorm with drizzle</th>\n",
       "      <td>287.880000</td>\n",
       "      <td>5.345000</td>\n",
       "      <td>0.000000</td>\n",
       "      <td>90.000000</td>\n",
       "      <td>2297.000000</td>\n",
       "      <td>9.000000</td>\n",
       "      <td>2014.500000</td>\n",
       "      <td>5.000000</td>\n",
       "    </tr>\n",
       "    <tr>\n",
       "      <th>thunderstorm with heavy rain</th>\n",
       "      <td>292.783200</td>\n",
       "      <td>3.595600</td>\n",
       "      <td>0.000000</td>\n",
       "      <td>82.480000</td>\n",
       "      <td>4555.760000</td>\n",
       "      <td>6.600000</td>\n",
       "      <td>2014.880000</td>\n",
       "      <td>3.000000</td>\n",
       "    </tr>\n",
       "    <tr>\n",
       "      <th>thunderstorm with light drizzle</th>\n",
       "      <td>290.885000</td>\n",
       "      <td>2.635000</td>\n",
       "      <td>0.000000</td>\n",
       "      <td>90.000000</td>\n",
       "      <td>4960.000000</td>\n",
       "      <td>8.000000</td>\n",
       "      <td>2017.666667</td>\n",
       "      <td>3.333333</td>\n",
       "    </tr>\n",
       "    <tr>\n",
       "      <th>thunderstorm with light rain</th>\n",
       "      <td>292.243478</td>\n",
       "      <td>1.190000</td>\n",
       "      <td>0.000000</td>\n",
       "      <td>76.565217</td>\n",
       "      <td>4336.130435</td>\n",
       "      <td>6.826087</td>\n",
       "      <td>2015.739130</td>\n",
       "      <td>3.173913</td>\n",
       "    </tr>\n",
       "    <tr>\n",
       "      <th>thunderstorm with rain</th>\n",
       "      <td>293.074500</td>\n",
       "      <td>1.460000</td>\n",
       "      <td>0.000000</td>\n",
       "      <td>82.350000</td>\n",
       "      <td>4522.950000</td>\n",
       "      <td>7.050000</td>\n",
       "      <td>2015.550000</td>\n",
       "      <td>2.950000</td>\n",
       "    </tr>\n",
       "    <tr>\n",
       "      <th>very heavy rain</th>\n",
       "      <td>296.680000</td>\n",
       "      <td>1426.242857</td>\n",
       "      <td>0.000000</td>\n",
       "      <td>51.857143</td>\n",
       "      <td>4780.571429</td>\n",
       "      <td>7.000000</td>\n",
       "      <td>2014.714286</td>\n",
       "      <td>1.571429</td>\n",
       "    </tr>\n",
       "  </tbody>\n",
       "</table>\n",
       "</div>"
      ],
      "text/plain": [
       "                                           temp      rain_1h   snow_1h  \\\n",
       "weather_description                                                      \n",
       "SQUALLS                              296.730000     1.020000  0.000000   \n",
       "Sky is Clear                         293.232549     0.000000  0.000000   \n",
       "broken clouds                        282.372927     0.000000  0.000000   \n",
       "drizzle                              283.573777     0.145072  0.000000   \n",
       "few clouds                           284.272965     0.000000  0.000000   \n",
       "fog                                  277.579641     0.163840  0.001409   \n",
       "freezing rain                        272.860000     0.000000  0.000000   \n",
       "haze                                 275.319353     0.040036  0.000000   \n",
       "heavy intensity drizzle              285.467931     0.276207  0.000000   \n",
       "heavy intensity rain                 290.231781     2.670548  0.000000   \n",
       "heavy snow                           269.256188     0.002375  0.000000   \n",
       "light intensity drizzle              284.902199     0.178848  0.000000   \n",
       "light intensity shower rain          290.563000     0.433000  0.000000   \n",
       "light rain                           286.349835     0.137147  0.000000   \n",
       "light rain and snow                  275.607500     0.317500  0.000000   \n",
       "light shower snow                    268.213636     0.000000  0.000000   \n",
       "light snow                           267.085634     0.015297  0.002106   \n",
       "mist                                 279.420825     0.249992  0.000825   \n",
       "moderate rain                        287.110124     0.572153  0.001057   \n",
       "overcast clouds                      278.802215     0.000000  0.000000   \n",
       "proximity shower rain                291.460090     0.279279  0.000000   \n",
       "proximity thunderstorm               293.552376     0.967756  0.000000   \n",
       "proximity thunderstorm with drizzle  287.913333     0.260000  0.000000   \n",
       "proximity thunderstorm with rain     291.210556     0.867222  0.000000   \n",
       "scattered clouds                     287.829086     0.000000  0.000000   \n",
       "shower drizzle                       271.330000     0.000000  0.000000   \n",
       "shower snow                          268.680000     0.000000  0.000000   \n",
       "sky is clear                         282.171390     0.000000  0.000000   \n",
       "sleet                                275.746667     0.000000  0.000000   \n",
       "smoke                                292.405833     0.878333  0.000000   \n",
       "snow                                 271.014891     0.024745  0.003723   \n",
       "thunderstorm                         295.168542     0.702083  0.000000   \n",
       "thunderstorm with drizzle            287.880000     5.345000  0.000000   \n",
       "thunderstorm with heavy rain         292.783200     3.595600  0.000000   \n",
       "thunderstorm with light drizzle      290.885000     2.635000  0.000000   \n",
       "thunderstorm with light rain         292.243478     1.190000  0.000000   \n",
       "thunderstorm with rain               293.074500     1.460000  0.000000   \n",
       "very heavy rain                      296.680000  1426.242857  0.000000   \n",
       "\n",
       "                                     clouds_all  traffic_volume     month  \\\n",
       "weather_description                                                         \n",
       "SQUALLS                               75.000000     4211.000000  7.000000   \n",
       "Sky is Clear                           0.000000     4919.009390  7.557512   \n",
       "broken clouds                         72.635875     4824.130326  6.675260   \n",
       "drizzle                               88.589928     4737.330935  7.244604   \n",
       "few clouds                            19.391951     4839.818023  6.159230   \n",
       "fog                                   65.477901     4372.491713  6.646409   \n",
       "freezing rain                         90.000000     4314.000000  6.500000   \n",
       "haze                                  64.000000     4609.893285  5.832134   \n",
       "heavy intensity drizzle               89.172414     4738.586207  7.551724   \n",
       "heavy intensity rain                  82.799087     4610.356164  7.150685   \n",
       "heavy snow                            85.287500     4411.681250  5.140625   \n",
       "light intensity drizzle               82.565445     4890.164049  7.020942   \n",
       "light intensity shower rain           88.500000     4558.100000  5.700000   \n",
       "light rain                            72.672525     4859.650849  6.610428   \n",
       "light rain and snow                   83.500000     5579.750000  7.500000   \n",
       "light shower snow                     81.909091     4618.636364  9.545455   \n",
       "light snow                            77.714724     4430.858896  6.734151   \n",
       "mist                                  74.961435     4623.976475  6.734285   \n",
       "moderate rain                         80.591083     4769.643312  7.008917   \n",
       "overcast clouds                       90.120696     4861.124952  6.078143   \n",
       "proximity shower rain                 78.108108     4901.756757  6.972973   \n",
       "proximity thunderstorm                73.511551     4684.356436  7.118812   \n",
       "proximity thunderstorm with drizzle   87.833333     5121.833333  8.500000   \n",
       "proximity thunderstorm with rain      82.666667     4501.611111  6.944444   \n",
       "scattered clouds                      40.043099     4936.787712  6.528198   \n",
       "shower drizzle                        90.000000     4932.666667  6.000000   \n",
       "shower snow                           90.000000     5664.000000  3.000000   \n",
       "sky is clear                           1.961161     4753.930294  6.304783   \n",
       "sleet                                 90.000000     4312.666667  7.000000   \n",
       "smoke                                 53.333333     4564.583333  6.833333   \n",
       "snow                                  88.737226     4054.065693  6.416058   \n",
       "thunderstorm                          71.437500     4724.708333  7.166667   \n",
       "thunderstorm with drizzle             90.000000     2297.000000  9.000000   \n",
       "thunderstorm with heavy rain          82.480000     4555.760000  6.600000   \n",
       "thunderstorm with light drizzle       90.000000     4960.000000  8.000000   \n",
       "thunderstorm with light rain          76.565217     4336.130435  6.826087   \n",
       "thunderstorm with rain                82.350000     4522.950000  7.050000   \n",
       "very heavy rain                       51.857143     4780.571429  7.000000   \n",
       "\n",
       "                                            year       day  \n",
       "weather_description                                         \n",
       "SQUALLS                              2016.000000  2.000000  \n",
       "Sky is Clear                         2014.723005  2.895540  \n",
       "broken clouds                        2015.266380  2.998210  \n",
       "drizzle                              2015.762590  3.028777  \n",
       "few clouds                           2015.139983  2.977253  \n",
       "fog                                  2015.814917  2.798343  \n",
       "freezing rain                        2014.500000  0.500000  \n",
       "haze                                 2015.557554  2.754197  \n",
       "heavy intensity drizzle              2015.793103  2.896552  \n",
       "heavy intensity rain                 2015.876712  2.858447  \n",
       "heavy snow                           2013.190625  2.975000  \n",
       "light intensity drizzle              2015.935428  2.897033  \n",
       "light intensity shower rain          2015.600000  3.200000  \n",
       "light rain                           2015.330990  2.928530  \n",
       "light rain and snow                  2013.500000  1.250000  \n",
       "light shower snow                    2016.909091  1.181818  \n",
       "light snow                           2016.199387  2.724949  \n",
       "mist                                 2015.527574  2.895102  \n",
       "moderate rain                        2015.821656  2.917197  \n",
       "overcast clouds                      2015.199226  3.042553  \n",
       "proximity shower rain                2016.990991  2.891892  \n",
       "proximity thunderstorm               2016.359736  2.894389  \n",
       "proximity thunderstorm with drizzle  2015.333333  2.500000  \n",
       "proximity thunderstorm with rain     2016.833333  3.222222  \n",
       "scattered clouds                     2015.631820  2.986245  \n",
       "shower drizzle                       2017.666667  1.666667  \n",
       "shower snow                          2013.000000  4.000000  \n",
       "sky is clear                         2015.775552  3.181316  \n",
       "sleet                                2017.000000  3.333333  \n",
       "smoke                                2015.916667  2.416667  \n",
       "snow                                 2015.686131  2.554745  \n",
       "thunderstorm                         2016.708333  3.041667  \n",
       "thunderstorm with drizzle            2014.500000  5.000000  \n",
       "thunderstorm with heavy rain         2014.880000  3.000000  \n",
       "thunderstorm with light drizzle      2017.666667  3.333333  \n",
       "thunderstorm with light rain         2015.739130  3.173913  \n",
       "thunderstorm with rain               2015.550000  2.950000  \n",
       "very heavy rain                      2014.714286  1.571429  "
      ]
     },
     "execution_count": 122,
     "metadata": {},
     "output_type": "execute_result"
    }
   ],
   "source": [
    "groupby_weather_desc"
   ]
  },
  {
   "cell_type": "code",
   "execution_count": 123,
   "metadata": {},
   "outputs": [
    {
     "data": {
      "text/html": [
       "<div>\n",
       "<style scoped>\n",
       "    .dataframe tbody tr th:only-of-type {\n",
       "        vertical-align: middle;\n",
       "    }\n",
       "\n",
       "    .dataframe tbody tr th {\n",
       "        vertical-align: top;\n",
       "    }\n",
       "\n",
       "    .dataframe thead th {\n",
       "        text-align: right;\n",
       "    }\n",
       "</style>\n",
       "<table border=\"1\" class=\"dataframe\">\n",
       "  <thead>\n",
       "    <tr style=\"text-align: right;\">\n",
       "      <th></th>\n",
       "      <th>temp</th>\n",
       "      <th>rain_1h</th>\n",
       "      <th>snow_1h</th>\n",
       "      <th>clouds_all</th>\n",
       "      <th>traffic_volume</th>\n",
       "      <th>month</th>\n",
       "      <th>year</th>\n",
       "      <th>day</th>\n",
       "    </tr>\n",
       "    <tr>\n",
       "      <th>weather_main</th>\n",
       "      <th></th>\n",
       "      <th></th>\n",
       "      <th></th>\n",
       "      <th></th>\n",
       "      <th></th>\n",
       "      <th></th>\n",
       "      <th></th>\n",
       "      <th></th>\n",
       "    </tr>\n",
       "  </thead>\n",
       "  <tbody>\n",
       "    <tr>\n",
       "      <th>Clear</th>\n",
       "      <td>283.812078</td>\n",
       "      <td>0.000000</td>\n",
       "      <td>0.000000</td>\n",
       "      <td>1.670265</td>\n",
       "      <td>4778.416260</td>\n",
       "      <td>6.490599</td>\n",
       "      <td>2015.619429</td>\n",
       "      <td>3.138928</td>\n",
       "    </tr>\n",
       "    <tr>\n",
       "      <th>Clouds</th>\n",
       "      <td>282.929274</td>\n",
       "      <td>0.000000</td>\n",
       "      <td>0.000000</td>\n",
       "      <td>62.667548</td>\n",
       "      <td>4865.415996</td>\n",
       "      <td>6.393243</td>\n",
       "      <td>2015.321420</td>\n",
       "      <td>3.005631</td>\n",
       "    </tr>\n",
       "    <tr>\n",
       "      <th>Drizzle</th>\n",
       "      <td>284.456433</td>\n",
       "      <td>0.170804</td>\n",
       "      <td>0.000000</td>\n",
       "      <td>84.704417</td>\n",
       "      <td>4837.212911</td>\n",
       "      <td>7.105323</td>\n",
       "      <td>2015.882220</td>\n",
       "      <td>2.934315</td>\n",
       "    </tr>\n",
       "    <tr>\n",
       "      <th>Fog</th>\n",
       "      <td>277.579641</td>\n",
       "      <td>0.163840</td>\n",
       "      <td>0.001409</td>\n",
       "      <td>65.477901</td>\n",
       "      <td>4372.491713</td>\n",
       "      <td>6.646409</td>\n",
       "      <td>2015.814917</td>\n",
       "      <td>2.798343</td>\n",
       "    </tr>\n",
       "    <tr>\n",
       "      <th>Haze</th>\n",
       "      <td>275.319353</td>\n",
       "      <td>0.040036</td>\n",
       "      <td>0.000000</td>\n",
       "      <td>64.000000</td>\n",
       "      <td>4609.893285</td>\n",
       "      <td>5.832134</td>\n",
       "      <td>2015.557554</td>\n",
       "      <td>2.754197</td>\n",
       "    </tr>\n",
       "    <tr>\n",
       "      <th>Mist</th>\n",
       "      <td>279.420825</td>\n",
       "      <td>0.249992</td>\n",
       "      <td>0.000825</td>\n",
       "      <td>74.961435</td>\n",
       "      <td>4623.976475</td>\n",
       "      <td>6.734285</td>\n",
       "      <td>2015.527574</td>\n",
       "      <td>2.895102</td>\n",
       "    </tr>\n",
       "    <tr>\n",
       "      <th>Rain</th>\n",
       "      <td>287.089601</td>\n",
       "      <td>3.972943</td>\n",
       "      <td>0.000292</td>\n",
       "      <td>75.870116</td>\n",
       "      <td>4815.568462</td>\n",
       "      <td>6.774023</td>\n",
       "      <td>2015.572334</td>\n",
       "      <td>2.914467</td>\n",
       "    </tr>\n",
       "    <tr>\n",
       "      <th>Smoke</th>\n",
       "      <td>292.405833</td>\n",
       "      <td>0.878333</td>\n",
       "      <td>0.000000</td>\n",
       "      <td>53.333333</td>\n",
       "      <td>4564.583333</td>\n",
       "      <td>6.833333</td>\n",
       "      <td>2015.916667</td>\n",
       "      <td>2.416667</td>\n",
       "    </tr>\n",
       "    <tr>\n",
       "      <th>Snow</th>\n",
       "      <td>267.984505</td>\n",
       "      <td>0.014017</td>\n",
       "      <td>0.001768</td>\n",
       "      <td>80.501376</td>\n",
       "      <td>4396.321183</td>\n",
       "      <td>6.374828</td>\n",
       "      <td>2015.486245</td>\n",
       "      <td>2.750344</td>\n",
       "    </tr>\n",
       "    <tr>\n",
       "      <th>Squall</th>\n",
       "      <td>296.730000</td>\n",
       "      <td>1.020000</td>\n",
       "      <td>0.000000</td>\n",
       "      <td>75.000000</td>\n",
       "      <td>4211.000000</td>\n",
       "      <td>7.000000</td>\n",
       "      <td>2016.000000</td>\n",
       "      <td>2.000000</td>\n",
       "    </tr>\n",
       "    <tr>\n",
       "      <th>Thunderstorm</th>\n",
       "      <td>293.364678</td>\n",
       "      <td>1.146475</td>\n",
       "      <td>0.000000</td>\n",
       "      <td>75.184035</td>\n",
       "      <td>4648.212860</td>\n",
       "      <td>7.108647</td>\n",
       "      <td>2016.261641</td>\n",
       "      <td>2.955654</td>\n",
       "    </tr>\n",
       "  </tbody>\n",
       "</table>\n",
       "</div>"
      ],
      "text/plain": [
       "                    temp   rain_1h   snow_1h  clouds_all  traffic_volume  \\\n",
       "weather_main                                                               \n",
       "Clear         283.812078  0.000000  0.000000    1.670265     4778.416260   \n",
       "Clouds        282.929274  0.000000  0.000000   62.667548     4865.415996   \n",
       "Drizzle       284.456433  0.170804  0.000000   84.704417     4837.212911   \n",
       "Fog           277.579641  0.163840  0.001409   65.477901     4372.491713   \n",
       "Haze          275.319353  0.040036  0.000000   64.000000     4609.893285   \n",
       "Mist          279.420825  0.249992  0.000825   74.961435     4623.976475   \n",
       "Rain          287.089601  3.972943  0.000292   75.870116     4815.568462   \n",
       "Smoke         292.405833  0.878333  0.000000   53.333333     4564.583333   \n",
       "Snow          267.984505  0.014017  0.001768   80.501376     4396.321183   \n",
       "Squall        296.730000  1.020000  0.000000   75.000000     4211.000000   \n",
       "Thunderstorm  293.364678  1.146475  0.000000   75.184035     4648.212860   \n",
       "\n",
       "                 month         year       day  \n",
       "weather_main                                   \n",
       "Clear         6.490599  2015.619429  3.138928  \n",
       "Clouds        6.393243  2015.321420  3.005631  \n",
       "Drizzle       7.105323  2015.882220  2.934315  \n",
       "Fog           6.646409  2015.814917  2.798343  \n",
       "Haze          5.832134  2015.557554  2.754197  \n",
       "Mist          6.734285  2015.527574  2.895102  \n",
       "Rain          6.774023  2015.572334  2.914467  \n",
       "Smoke         6.833333  2015.916667  2.416667  \n",
       "Snow          6.374828  2015.486245  2.750344  \n",
       "Squall        7.000000  2016.000000  2.000000  \n",
       "Thunderstorm  7.108647  2016.261641  2.955654  "
      ]
     },
     "execution_count": 123,
     "metadata": {},
     "output_type": "execute_result"
    }
   ],
   "source": [
    "groupby_weather_main"
   ]
  },
  {
   "cell_type": "code",
   "execution_count": 130,
   "metadata": {},
   "outputs": [
    {
     "data": {
      "image/png": "[encoded data removed]",
      "text/plain": [
       "<Figure size 432x288 with 1 Axes>"
      ]
     },
     "metadata": {
      "needs_background": "light"
     },
     "output_type": "display_data"
    }
   ],
   "source": [
    "groupby_weather_main.traffic_volume.plot.barh()\n",
    "plt.show()"
   ]
  },
  {
   "cell_type": "markdown",
   "metadata": {},
   "source": [
    "It looks like there's no weather type where traffic volume exceeds 5,000 cars. This makes finding a heavy traffic indicator more difficult. Let's also group by weather_description, which has a more granular weather classification."
   ]
  },
  {
   "cell_type": "code",
   "execution_count": 132,
   "metadata": {},
   "outputs": [
    {
     "data": {
      "image/png": "[encoded data removed]",
      "text/plain": [
       "<Figure size 720x432 with 1 Axes>"
      ]
     },
     "metadata": {
      "needs_background": "light"
     },
     "output_type": "display_data"
    }
   ],
   "source": [
    "groupby_weather_desc.traffic_volume.plot.barh(figsize=(10,6))\n",
    "plt.show()"
   ]
  },
  {
   "cell_type": "markdown",
   "metadata": {},
   "source": [
    "It looks like there are three weather types where traffic volume exceeds 5,000:\n",
    "\n",
    "Shower snow\n",
    "Light rain and snow\n",
    "Proximity thunderstorm with drizzle\n",
    "It's not clear why these weather types have the highest average traffic values — this is bad weather, but not that bad. Perhaps more people take their cars out of the garage when the weather is bad instead of riding a bike or walking."
   ]
  },
  {
   "cell_type": "markdown",
   "metadata": {},
   "source": [
    "## Conclusion"
   ]
  },
  {
   "cell_type": "markdown",
   "metadata": {},
   "source": [
    "In this project, we tried to find a few indicators of heavy traffic on the I-94 Interstate highway. We managed to find two types of indicators:\n",
    "\n",
    "* Time indicators:\n",
    "    * Traffic is heavier during warm months (March-October) comparet to cold months (November - Febuary)\n",
    "\n",
    "    * The traffic is usually heavier on business days compared to the weekends.\n",
    "\n",
    "    * On business days, the rush hours are around 7 and 16.\n",
    "* Weather indicators:\n",
    "    * Shower snow\n",
    "    * Light rain and snow\n",
    "    * Proximity thunderstorm with drizzle"
   ]
  }
 ],
 "metadata": {
  "kernelspec": {
   "display_name": "Python 3",
   "language": "python",
   "name": "python3"
  },
  "language_info": {
   "codemirror_mode": {
    "name": "ipython",
    "version": 3
   },
   "file_extension": ".py",
   "mimetype": "text/x-python",
   "name": "python",
   "nbconvert_exporter": "python",
   "pygments_lexer": "ipython3",
   "version": "3.8.5"
  }
 },
 "nbformat": 4,
 "nbformat_minor": 4
}
